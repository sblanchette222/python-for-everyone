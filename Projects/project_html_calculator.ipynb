{
 "cells": [
  {
   "cell_type": "markdown",
   "metadata": {},
   "source": [
    "# Project: Variables and Formatting \n",
    "\n",
    "This project will give you more practice using variables and mathematical operations. Also, you will write a program that takes input from the user and generates nice looking output using HTML. Unlike the last project you will submit your code inside of this notebook and not in a separate file. \n",
    "\n",
    ">  Do the project inside of this notebook in the cell provided at the bottom."
   ]
  },
  {
   "cell_type": "markdown",
   "metadata": {},
   "source": [
    "## A Python Calculator \n",
    "\n",
    "The purpose of the project is to perform the calculations you learned in Lesson 2 and display the results. The source of the calculations comes from prompting the user for input with the `input` function. The output of the program is HTML, which will be nicely formatted by Jupyter. The *algorithm* has three steps: \n",
    "\n",
    "  1. Ask the user for a number two times and store the numbers in variables `a` and `b`. \n",
    "  2. Use the `format` function or and `f-string` (your choice) to build HTML code. \n",
    "  3. Display the HTML code using the `HTML` Jupyter function. \n",
    "\n",
    "### Calculator Output \n",
    "\n",
    "Your calculator should perform the following operations: \n",
    "\n",
    "  1. Addition (`+`)\n",
    "  2. Subtraction (`-`)\n",
    "  3. Multiplication (`*`)\n",
    "  4. Division (`/`)\n",
    "  5. Modululs (`%`)\n",
    "  6. Less than (`<`)\n",
    "  7. Greater than (`>`)\n",
    "  8. Equal to (`==`)\n",
    "  \n",
    "For example, if a user enters the numbers `12` and `56` the program generates an HTML table that looks like this: \n",
    "\n",
    "\n",
    "| Operation | Result |\n",
    "| --- | --- | \n",
    "| 12.0 + 56.0 | 68.0 |\n",
    "| 12.0 - 56.0 | -44.0 | \n",
    "| 12.0 * 56.0 | 672.0 | \n",
    "| 12.0 / 56.0 | 0.21428571428571427 | \n",
    "| 12.0 % 56.0 | 12.0 | \n",
    "| 12.0 < 56.0 | True |\n",
    "| 12.0 > 56.0 | False | \n",
    "| 12.0 == 56.0 | False | \n",
    "\n",
    "### HTML Tables \n",
    "\n",
    "You learned a little about HTML in class. Here's a link to a tutorial that will help you understand how to build HTML tables: \n",
    "\n",
    "https://www.w3schools.com/html/html_tables.asp\n",
    "\n",
    "## Requirements \n",
    "\n",
    "  - Your program must have a docstring \n",
    "  - Your program must generate HTML \n",
    "  - Your table must have a header row as shown in the example.\n",
    "  - You must perform all of the operations shown. \n",
    "    - I will test your code with random numbers, you must actually do the math! \n",
    "  - Your program must be submitted inside of this notebook.\n",
    "  \n",
    "## Tips\n",
    "\n",
    "  - Your HTML code should be inside of a Python variable. Kinda like this:\n",
    "    \n",
    "      ```python\n",
    "      output = \"\"\"<h1>Hello World</h1>\"\"\"\n",
    "      ```\n",
    "      \n",
    "    \n",
    "  - The `format()` function or the f-string are perfect for creating a string that mixes HTML and the content of variables in your program. \n",
    "  \n",
    "      ```python\n",
    "      some_number = 43\n",
    "      output = f\"\"\"The number is <b>{some_number}</b>\"\"\"\n",
    "      ```\n",
    "      \n",
    "      \n",
    "  - The function shown below tells Jupyter to treat the `output` variable as HTML and display it nicely.\n",
    "  \n",
    "      ```python\n",
    "      display(HTML(output))\n",
    "      ```\n",
    "\n",
    "\n",
    "  - This code must be in your program after the docstring to make the `HTML` function available.\n",
    "  \n",
    "      ```python\n",
    "      from IPython.core.display import HTML \n",
    "      ```\n",
    "      \n",
    "      "
   ]
  },
  {
   "cell_type": "markdown",
   "metadata": {},
   "source": [
    "## Code Cell \n",
    "\n",
    "Put your solution in the cell below:"
   ]
  },
  {
   "cell_type": "code",
   "execution_count": null,
   "metadata": {},
   "outputs": [],
   "source": []
  }
 ],
 "metadata": {
  "kernelspec": {
   "display_name": "Python 3",
   "language": "python",
   "name": "python3"
  },
  "language_info": {
   "codemirror_mode": {
    "name": "ipython",
    "version": 3
   },
   "file_extension": ".py",
   "mimetype": "text/x-python",
   "name": "python",
   "nbconvert_exporter": "python",
   "pygments_lexer": "ipython3",
   "version": "3.7.6"
  }
 },
 "nbformat": 4,
 "nbformat_minor": 4
}
