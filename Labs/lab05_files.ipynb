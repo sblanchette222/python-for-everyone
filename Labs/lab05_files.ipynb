{
 "cells": [
  {
   "cell_type": "markdown",
   "metadata": {},
   "source": [
    "# Lab 5: Files \n",
    "\n",
    "The problems in this lab will help you understand reading and writing files.\n",
    "\n",
    "## Part 1: Reading and Writing a File \n",
    "\n",
    "This part will help you understand reading and writing. \n",
    "\n",
    "### 1.1. Open and Read a File\n",
    "\n",
    "*Create a file called `test.txt` with a few lines in it.* Read and print the first line of the file. **Don't forget to close the file**."
   ]
  },
  {
   "cell_type": "code",
   "execution_count": null,
   "metadata": {},
   "outputs": [],
   "source": []
  },
  {
   "cell_type": "markdown",
   "metadata": {},
   "source": [
    "### 1.2. Read Two Lines \n",
    "\n",
    "Wirte a program that reads the first two lines of `test.txt` and prints them. **Don't forget to close the file**.  "
   ]
  },
  {
   "cell_type": "code",
   "execution_count": null,
   "metadata": {},
   "outputs": [],
   "source": []
  },
  {
   "cell_type": "markdown",
   "metadata": {},
   "source": [
    "### 1.3. Write a File \n",
    "\n",
    "Use Python to write the following into a file called `fish.txt`:\n",
    "\n",
    "```\n",
    "One fish, \n",
    "Two fish, \n",
    "Red fish, \n",
    "Blue fish.\n",
    "```\n",
    "\n",
    "The program should create the file if it doesn't exist."
   ]
  },
  {
   "cell_type": "code",
   "execution_count": null,
   "metadata": {},
   "outputs": [],
   "source": []
  },
  {
   "cell_type": "markdown",
   "metadata": {},
   "source": [
    "### 1.4. Write Data \n",
    "\n",
    "Write a program that uses the `input()` function to:\n",
    "\n",
    " - Ask the user for a file name (`filename`)\n",
    " - Ask the user for their name (`word`)\n",
    " - Ask the user for an integer (`times`)\n",
    " \n",
    "Open the file `filename` then write `word` `times` number of times.  "
   ]
  },
  {
   "cell_type": "code",
   "execution_count": null,
   "metadata": {},
   "outputs": [],
   "source": []
  },
  {
   "cell_type": "markdown",
   "metadata": {},
   "source": [
    "### 1.5. Append Data \n",
    "\n",
    "Rewrite question the previous append data to the file instead of overwriting the file. "
   ]
  },
  {
   "cell_type": "code",
   "execution_count": null,
   "metadata": {},
   "outputs": [],
   "source": []
  },
  {
   "cell_type": "markdown",
   "metadata": {},
   "source": [
    "### 1.6. Read Lines and Reorder \n",
    "\n",
    "Write a program that reads the four lines in `fish.txt` and prints them in *reverse order*. "
   ]
  },
  {
   "cell_type": "code",
   "execution_count": null,
   "metadata": {},
   "outputs": [],
   "source": []
  }
 ],
 "metadata": {
  "kernelspec": {
   "display_name": "Python 3",
   "language": "python",
   "name": "python3"
  },
  "language_info": {
   "codemirror_mode": {
    "name": "ipython",
    "version": 3
   },
   "file_extension": ".py",
   "mimetype": "text/x-python",
   "name": "python",
   "nbconvert_exporter": "python",
   "pygments_lexer": "ipython3",
   "version": "3.8.3"
  }
 },
 "nbformat": 4,
 "nbformat_minor": 4
}
