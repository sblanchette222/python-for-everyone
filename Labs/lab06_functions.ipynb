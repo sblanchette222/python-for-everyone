{
 "cells": [
  {
   "cell_type": "markdown",
   "metadata": {},
   "source": [
    "# Lab 6: Functions\n",
    "\n",
    "This lab will help you get practice using functions. It will also help you understand how functions are specified. From now on most of the things that I will have you write will be in a function. It's important that you structure your function to match the question exactly. \n",
    "\n",
    "Here's an example of a function specification. It tells you the name of the function, what it should return the names of the arguments (if any) and their order. Though the argument names can change everything else should be the same. \n",
    "\n",
    "* Name: `the_function`\n",
    "* Arguments:\n",
    "  * `arg1` (string) - The first argument\n",
    "  * `arg2` (integer) - The second argument \n",
    "* Return Values:\n",
    "  * Your name (string)  \n",
    "\n",
    "Here's how you setup the answer:\n",
    "\n",
    "```python\n",
    "def the_function(arg1, arg2): \n",
    "    \"\"\"This is the docstring for the_function\"\"\"\n",
    "    # Put your code here\n",
    "    return \"Mike\"\n",
    "```\n",
    "\n",
    "Before you turn in or test your function make sure that:\n",
    "\n",
    "1. You used the correct name\n",
    "1. There is a docstring\n",
    "1. You have the same number of arguments (you can rename them if you like)\n",
    "1. You return the requested value. If the requested value is `None` you can simply `return`\n",
    "\n",
    "## Part 1: Writing Functions \n",
    "\n",
    "\n",
    "### 1.1. Write `foo`\n",
    "\n",
    "Write a function called `foo` that takes one argument `bar`. The function should `print` the contents of `bar`.\n",
    "\n",
    "* Name: `foo`\n",
    "* Arguments:\n",
    "  * `bar` (string) - The thing to print\n",
    "* Returns: `None`"
   ]
  },
  {
   "cell_type": "code",
   "execution_count": null,
   "metadata": {},
   "outputs": [],
   "source": []
  },
  {
   "cell_type": "markdown",
   "metadata": {},
   "source": [
    "Test your function using the cell below: "
   ]
  },
  {
   "cell_type": "code",
   "execution_count": null,
   "metadata": {},
   "outputs": [],
   "source": []
  },
  {
   "cell_type": "markdown",
   "metadata": {},
   "source": [
    "### 1.2. Write `do_sum`\n",
    "\n",
    "Write a function called `do_sum` that takes two arguments, `a` and `b`. The function should `print` the sum of its arguments.\n",
    "\n",
    "* Name: `do_sum`\n",
    "* Arguments:\n",
    "  * `a` (float) - A number\n",
    "  * `b` (float) - Another number\n",
    "* Returns: `None`"
   ]
  },
  {
   "cell_type": "code",
   "execution_count": null,
   "metadata": {},
   "outputs": [],
   "source": []
  },
  {
   "cell_type": "markdown",
   "metadata": {},
   "source": [
    "Test your function in the cell below:"
   ]
  },
  {
   "cell_type": "code",
   "execution_count": null,
   "metadata": {},
   "outputs": [],
   "source": []
  },
  {
   "cell_type": "markdown",
   "metadata": {},
   "source": [
    "### 1.3. Print Repeated\n",
    "\n",
    "Write a function called `print_repeat` that takes two arguments, `words` and `times`. The function prints `words` `times` times. \n",
    "\n",
    "* Name: `print_repeat`\n",
    "* Arguments:\n",
    "  * `words` (string) - The words to repeat\n",
    "  * `times` (integer) - Another number\n",
    "* Returns: `None`"
   ]
  },
  {
   "cell_type": "code",
   "execution_count": null,
   "metadata": {},
   "outputs": [],
   "source": []
  },
  {
   "cell_type": "markdown",
   "metadata": {},
   "source": [
    "Test your function is the cell below:"
   ]
  },
  {
   "cell_type": "code",
   "execution_count": null,
   "metadata": {},
   "outputs": [],
   "source": []
  },
  {
   "cell_type": "markdown",
   "metadata": {},
   "source": [
    "### 1.4. A Return Value\n",
    "\n",
    "Write a function called `i_am_four` that returns the number `4`.\n",
    "\n",
    "* Name: `i_am_four`\n",
    "* Arguments: None\n",
    "* Returns: `4`"
   ]
  },
  {
   "cell_type": "code",
   "execution_count": null,
   "metadata": {},
   "outputs": [],
   "source": []
  },
  {
   "cell_type": "markdown",
   "metadata": {},
   "source": [
    "Test your function in the cell below:"
   ]
  },
  {
   "cell_type": "code",
   "execution_count": null,
   "metadata": {},
   "outputs": [],
   "source": []
  },
  {
   "cell_type": "markdown",
   "metadata": {},
   "source": [
    "### 1.5. Arguments and Return Values\n",
    "\n",
    "Write a function called `do_sum_return` that takes two arguments, `a` and `b`. The function returns the sum of the two numbers. \n",
    "\n",
    "* Name: `do_sum_return`\n",
    "* Arguments: \n",
    "    * `a` (float) A number\n",
    "    * `b` (float) Another number\n",
    "* Returns: The sum of `a` and `b`"
   ]
  },
  {
   "cell_type": "code",
   "execution_count": null,
   "metadata": {},
   "outputs": [],
   "source": []
  },
  {
   "cell_type": "markdown",
   "metadata": {},
   "source": [
    "Test your function in the cell below:"
   ]
  },
  {
   "cell_type": "code",
   "execution_count": null,
   "metadata": {},
   "outputs": [],
   "source": []
  },
  {
   "cell_type": "markdown",
   "metadata": {},
   "source": [
    "### 1.6. Read a Whole File\n",
    "\n",
    "Write a function called `read_file` that has an argument `filename` that contains the name of a file. The function should read the file and return it's entire contents. The function must close the file before returning. \n",
    "\n",
    "* Name: `read_file`\n",
    "* Arguments: \n",
    "    * `filename` (string) The name of a file to read.\n",
    "* Returns: (string) The contents of the file. "
   ]
  },
  {
   "cell_type": "code",
   "execution_count": null,
   "metadata": {},
   "outputs": [],
   "source": []
  },
  {
   "cell_type": "markdown",
   "metadata": {},
   "source": [
    "Test your function below. You can use the file `example.txt` for testing purposes."
   ]
  },
  {
   "cell_type": "code",
   "execution_count": null,
   "metadata": {},
   "outputs": [],
   "source": []
  },
  {
   "cell_type": "markdown",
   "metadata": {},
   "source": [
    "### 1.7. Write a Whole File\n",
    "\n",
    "Write a function called `write_file` that takes two arguments `filename` and `contents`. The function opens the file named in `filename` removing any previous contents and replacing them with `contents`. Return the number of characters written to the file. The function must close the file before returning. \n",
    "\n",
    "* Name: `write_file`\n",
    "* Arguments: \n",
    "    * `filename` (string) The name of a file to write.\n",
    "    * `contents` (string) The stuff to write into the file. \n",
    "* Returns: (integer) The number of characters written."
   ]
  },
  {
   "cell_type": "code",
   "execution_count": null,
   "metadata": {},
   "outputs": [],
   "source": []
  },
  {
   "cell_type": "markdown",
   "metadata": {},
   "source": [
    "Test your function in the cell below. Write to a file named `output.txt`"
   ]
  },
  {
   "cell_type": "code",
   "execution_count": null,
   "metadata": {},
   "outputs": [],
   "source": []
  },
  {
   "cell_type": "markdown",
   "metadata": {},
   "source": [
    "### 1.8. Input and Functions \n",
    "\n",
    "Write a function called `input_number` that prompts the user for a number and returns the user input as a `float`. *Bonus: use a `try` and an `except` to detect an error. If there's an error return `0`.*\n",
    "\n",
    "* Name: `input_number`\n",
    "* Arguments: None\n",
    "* Returns: (float) The number the user typed"
   ]
  },
  {
   "cell_type": "code",
   "execution_count": null,
   "metadata": {},
   "outputs": [],
   "source": []
  },
  {
   "cell_type": "markdown",
   "metadata": {},
   "source": [
    "Test your function in the cell below."
   ]
  },
  {
   "cell_type": "code",
   "execution_count": null,
   "metadata": {},
   "outputs": [],
   "source": []
  },
  {
   "cell_type": "markdown",
   "metadata": {},
   "source": [
    "### 1.9: Summing Values \n",
    "\n",
    "Write a function called `file_sum` that takes one argument `filename`, the name of a file. The function should read the first four lines of the file and convert the lines to `float`, then return the sum of the numbers in the file. \n",
    "\n",
    "* Name: `file_sum`\n",
    "* Arguments:\n",
    "    * `filename` (string) - The name of a file \n",
    "* Returns: (float) The sum of the first four lines in the file. "
   ]
  },
  {
   "cell_type": "code",
   "execution_count": null,
   "metadata": {},
   "outputs": [],
   "source": []
  },
  {
   "cell_type": "markdown",
   "metadata": {},
   "source": [
    "Test your function in the code below. The file `numbers.txt` in the current directory can be used for testing. "
   ]
  },
  {
   "cell_type": "code",
   "execution_count": null,
   "metadata": {},
   "outputs": [],
   "source": []
  },
  {
   "cell_type": "markdown",
   "metadata": {},
   "source": [
    "### 1.10. Top to Bottom \n",
    "\n",
    "Write a function called `top_to_bottom` that takes one argument `filename`. The function reads the file and re-rewrites it with the first line of the file moved to the bottom. For example if the file looked like this before `top_to_bottom`:\n",
    "\n",
    "``` \n",
    "line 1\n",
    "line 2\n",
    "Mary had a little \n",
    "Lamb. \n",
    "And stuff\n",
    "```\n",
    "\n",
    "After `top_to_bottom` the file should look like this:\n",
    "\n",
    "``` \n",
    "line 2\n",
    "Mary had a little \n",
    "Lamb. \n",
    "And stuff\n",
    "line 1\n",
    "```\n",
    "\n",
    "* Name: `top_to_bottom`\n",
    "* Arguments:\n",
    "    * `filename` (string) - The name of a file \n",
    "* Returns: None"
   ]
  },
  {
   "cell_type": "code",
   "execution_count": null,
   "metadata": {},
   "outputs": [],
   "source": []
  },
  {
   "cell_type": "markdown",
   "metadata": {},
   "source": [
    "Test your function in the cell below:"
   ]
  },
  {
   "cell_type": "code",
   "execution_count": null,
   "metadata": {},
   "outputs": [],
   "source": []
  }
 ],
 "metadata": {
  "kernelspec": {
   "display_name": "Python 3",
   "language": "python",
   "name": "python3"
  },
  "language_info": {
   "codemirror_mode": {
    "name": "ipython",
    "version": 3
   },
   "file_extension": ".py",
   "mimetype": "text/x-python",
   "name": "python",
   "nbconvert_exporter": "python",
   "pygments_lexer": "ipython3",
   "version": "3.7.6"
  }
 },
 "nbformat": 4,
 "nbformat_minor": 4
}
