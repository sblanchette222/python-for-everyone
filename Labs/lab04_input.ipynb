{
 "cells": [
  {
   "cell_type": "markdown",
   "metadata": {},
   "source": [
    "# Lab 4: Input \n",
    "\n",
    "This week you learned how to take input from the user. That's something that every program does one way or another. This lab will help you practice getting and using input. \n"
   ]
  },
  {
   "cell_type": "markdown",
   "metadata": {},
   "source": [
    "## Part 1: User Input\n",
    "\n",
    "### 1.1. Use the `input` function to get input from the user. Print what the user types."
   ]
  },
  {
   "cell_type": "code",
   "execution_count": null,
   "metadata": {},
   "outputs": [],
   "source": []
  },
  {
   "cell_type": "markdown",
   "metadata": {},
   "source": [
    "### 1.2. Use the `input` function, ask the user, \"What is your name?\""
   ]
  },
  {
   "cell_type": "code",
   "execution_count": null,
   "metadata": {},
   "outputs": [],
   "source": []
  },
  {
   "cell_type": "markdown",
   "metadata": {},
   "source": [
    "### 1.3. Use the `input()` function to get a user's name and print a customized greeting. \n",
    "\n",
    "For example, if the user types \"Mike Matera\" the program could say:\n",
    "\n",
    "```Hello Mike Matera```"
   ]
  },
  {
   "cell_type": "code",
   "execution_count": null,
   "metadata": {},
   "outputs": [],
   "source": []
  },
  {
   "cell_type": "markdown",
   "metadata": {},
   "source": [
    "## Part 2: Input Conversions\n",
    "\n",
    "### 2.1. Use `input` to ask the user for an *integer* and convert it to an `int`."
   ]
  },
  {
   "cell_type": "code",
   "execution_count": null,
   "metadata": {},
   "outputs": [],
   "source": []
  },
  {
   "cell_type": "markdown",
   "metadata": {},
   "source": [
    "### 2.2. Ask the user for a *number* and convert it to a `float`."
   ]
  },
  {
   "cell_type": "code",
   "execution_count": null,
   "metadata": {},
   "outputs": [],
   "source": []
  },
  {
   "cell_type": "markdown",
   "metadata": {},
   "source": [
    "### 2.3. Ask the user for an *integer*. \n",
    "\n",
    "Print `True` if the integer is less than 100 and `False` if the integer is greater than or equal to 100. "
   ]
  },
  {
   "cell_type": "code",
   "execution_count": null,
   "metadata": {},
   "outputs": [],
   "source": []
  },
  {
   "cell_type": "markdown",
   "metadata": {},
   "source": [
    "### 2.4. Ask the user to input two numbers. Print the product of the two numbers. "
   ]
  },
  {
   "cell_type": "code",
   "execution_count": null,
   "metadata": {},
   "outputs": [],
   "source": []
  },
  {
   "cell_type": "markdown",
   "metadata": {},
   "source": [
    "### 2.5. Ask the user for an integer. Print `True` if the integer is even and `False` if the integer is odd. \n",
    "\n",
    "*Hint: an even number modulus 2 is equal to 0*"
   ]
  },
  {
   "cell_type": "code",
   "execution_count": null,
   "metadata": {},
   "outputs": [],
   "source": []
  },
  {
   "cell_type": "markdown",
   "metadata": {},
   "source": [
    "### 2.6. A Madlib \n",
    "\n",
    "Write a program that asks the user for four types of words: \n",
    "\n",
    "1. An exclamation\n",
    "1. A name \n",
    "1. A verb \n",
    "1. a noun\n",
    "\n",
    "Using the input from the user and the template below, print out the completed Madlib:\n",
    "\n",
    "```python\n",
    "template = \"{exclamation}! said {name} as she {verb} away on her {noun}.\"\n",
    "```\n"
   ]
  },
  {
   "cell_type": "code",
   "execution_count": null,
   "metadata": {},
   "outputs": [],
   "source": []
  },
  {
   "cell_type": "markdown",
   "metadata": {},
   "source": [
    "## Part 3: User Defined Shape\n",
    "\n",
    "Run the code in the cell below and it will create a `shape()` function that you can use to draw shapes."
   ]
  },
  {
   "cell_type": "code",
   "execution_count": null,
   "metadata": {
    "deletable": false,
    "editable": false
   },
   "outputs": [],
   "source": [
    "from p4e.drawing import Turtle\n",
    "\n",
    "tu = Turtle()\n",
    "display(tu)\n",
    "\n",
    "def shape(name, size=100):\n",
    "    name = name.lower().strip()\n",
    "    if name == 'triangle':\n",
    "        polygon(3,size)\n",
    "    if name == 'square':\n",
    "        polygon(4,size)\n",
    "    if name == 'pentagon':\n",
    "        polygon(5,size)\n",
    "    if name == 'hexagon':\n",
    "        polygon(6,size)\n",
    "        \n",
    "def polygon(sides, size):\n",
    "    tu.clear()\n",
    "    for _ in range(sides):\n",
    "        tu.draw(size)\n",
    "        tu.turn(360/sides)"
   ]
  },
  {
   "cell_type": "markdown",
   "metadata": {},
   "source": [
    "Now you can draw shapes by name:"
   ]
  },
  {
   "cell_type": "code",
   "execution_count": null,
   "metadata": {},
   "outputs": [],
   "source": [
    "shape(\"square\")"
   ]
  },
  {
   "cell_type": "markdown",
   "metadata": {},
   "source": [
    "### 3.1. Use the `input()` function to ask the user what shape to draw, then draw the shape."
   ]
  },
  {
   "cell_type": "code",
   "execution_count": null,
   "metadata": {},
   "outputs": [],
   "source": []
  },
  {
   "cell_type": "markdown",
   "metadata": {},
   "source": [
    "### 3.2. Shape and Size \n",
    "\n",
    "The `polygon()` function takes two arguments, the number of sides and the length of a side. Change the numbers in the example below until you feel comfortable with how `polygon` works:"
   ]
  },
  {
   "cell_type": "code",
   "execution_count": null,
   "metadata": {},
   "outputs": [],
   "source": [
    "polygon(5, 50)"
   ]
  },
  {
   "cell_type": "markdown",
   "metadata": {},
   "source": [
    "Use the `input()` function twice to ask the user for: \n",
    "\n",
    "  1. The number of sides they want to draw. \n",
    "  2. The size of the polygon\n",
    "  \n",
    "After taking user input draw the polygon."
   ]
  },
  {
   "cell_type": "code",
   "execution_count": null,
   "metadata": {},
   "outputs": [],
   "source": []
  }
 ],
 "metadata": {
  "kernelspec": {
   "display_name": "Python 3.7 (XPython)",
   "language": "python",
   "name": "xpython"
  },
  "language_info": {
   "file_extension": ".py",
   "mimetype": "text/x-python",
   "name": "python",
   "version": "3.7.6"
  }
 },
 "nbformat": 4,
 "nbformat_minor": 4
}
