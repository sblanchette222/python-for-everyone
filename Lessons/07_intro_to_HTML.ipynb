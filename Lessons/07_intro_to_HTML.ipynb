{
 "cells": [
  {
   "cell_type": "markdown",
   "metadata": {},
   "source": [
    "# Introduction to HTML \n",
    "\n",
    "There's a lot to know about HTML. This quick introduction will help you understand the basics so you can create simple pages in Python. Start by reading the documentation here: \n",
    "\n",
    "  * [Introduction to HTML](https://www.w3schools.com/html/html_intro.asp)\n",
    "  * [HTML Elements](https://www.w3schools.com/html/html_elements.asp)\n",
    "\n",
    "The entire guide is good but the two articles above will get you started. HTML is a way to make the output of a program **beautiful**. Instead of just plain old text you can use images, make tables, use different fonts and styles and, importantly, make *hyperlinks* to other pages. In this lesson you'll learn how to make your Python programs produce HTML that looks cool in the Jupyter notebook. "
   ]
  },
  {
   "cell_type": "markdown",
   "metadata": {},
   "source": [
    "## Writing Python Code That Produces HTML \n",
    "\n",
    "You can produce ouput from Python code and have the Jupyter notebook render it as HTML. First you have to *import* the `HTML` function using Python's `import` directive. "
   ]
  },
  {
   "cell_type": "code",
   "execution_count": 1,
   "metadata": {},
   "outputs": [],
   "source": [
    "from IPython.core.display import HTML"
   ]
  },
  {
   "cell_type": "markdown",
   "metadata": {},
   "source": [
    "The `import` directive only has to be run once, after it's run you can use the HTML function in any cell. When you want to produce HTML from your program you use the `display` function rather than the `print` function. Try entering in the example code: \n",
    "\n",
    "```python\n",
    "my_html = \"<h1>Hello HTML World</h1>\"\n",
    "display(HTML(my_html))\n",
    "```"
   ]
  },
  {
   "cell_type": "code",
   "execution_count": null,
   "metadata": {},
   "outputs": [],
   "source": []
  },
  {
   "cell_type": "markdown",
   "metadata": {},
   "source": [
    "Generating HTML with Python opens up some colorful possibilities. For example:\n",
    "\n",
    "```python\n",
    "color = 'green'\n",
    "text = 'Hello World'\n",
    "display(HTML(f'<span style=\"color: {color};\"><b>{text}</b></span>'))\n",
    "```"
   ]
  },
  {
   "cell_type": "code",
   "execution_count": null,
   "metadata": {},
   "outputs": [],
   "source": []
  },
  {
   "cell_type": "markdown",
   "metadata": {},
   "source": [
    "**Notice the use of an f-string?**. Try changing the `color` and `text` variables in your code to see what happens. Mixing static and variable HTML is how every useful site works. It's also a place where the `format` function shines. \n",
    "\n",
    "```python\n",
    "template = \"\"\"\n",
    "<span style=\"color: {};\">\n",
    "    <b>{}</b>\n",
    "</span>\n",
    "\"\"\"\n",
    "display(HTML(template.format(\"orange\", \"I'm so happy!\")))\n",
    "```"
   ]
  },
  {
   "cell_type": "code",
   "execution_count": null,
   "metadata": {},
   "outputs": [],
   "source": []
  },
  {
   "cell_type": "markdown",
   "metadata": {},
   "source": [
    "Using format() this way enables your program to reuse the template to make new words and colors. Try running this code in the cell below and you'll see that the template can be used over and over:\n",
    "\n",
    "```python\n",
    "display(HTML(template.format(\"blue\", \"I'm blue\")))\n",
    "```"
   ]
  },
  {
   "cell_type": "code",
   "execution_count": null,
   "metadata": {},
   "outputs": [],
   "source": []
  },
  {
   "cell_type": "markdown",
   "metadata": {},
   "source": [
    "## Some HTML Example Programs\n",
    "\n",
    "The Jupyter notebook makes it easy to experiment with HTML because it renders the HTML right in the notebook. Here are some example programs with HTML code taht you can use and reuse:"
   ]
  },
  {
   "cell_type": "code",
   "execution_count": 2,
   "metadata": {
    "deletable": false,
    "editable": false
   },
   "outputs": [
    {
     "data": {
      "text/html": [
       "\n",
       "<h3>My Heading</h3>\n",
       "<p>My first paragraph.</p>\n"
      ],
      "text/plain": [
       "<display.HTML object at 0x7faef826bd70>"
      ]
     },
     "metadata": {},
     "output_type": "display_data"
    }
   ],
   "source": [
    "my_html = \"\"\"\n",
    "<h3>My Heading</h3>\n",
    "<p>My first paragraph.</p>\n",
    "\"\"\"\n",
    "display(HTML(my_html))"
   ]
  },
  {
   "cell_type": "markdown",
   "metadata": {},
   "source": [
    "### Heading Tags \n",
    "\n",
    "Heading tags change the size and weight of the letters. Words inside heading tags appear on their own line."
   ]
  },
  {
   "cell_type": "code",
   "execution_count": 3,
   "metadata": {
    "deletable": false,
    "editable": false
   },
   "outputs": [
    {
     "data": {
      "text/html": [
       "\n",
       "<h1>Heading 1</h1>\n",
       "<h2>Heading 2</h2>\n",
       "<h3>Heading 3</h3>\n",
       "<h4>Heading 4</h4>\n",
       "<h5>Heading 5</h5>\n"
      ],
      "text/plain": [
       "<display.HTML object at 0x7faef826bf30>"
      ]
     },
     "metadata": {},
     "output_type": "display_data"
    }
   ],
   "source": [
    "my_html = \"\"\"\n",
    "<h1>Heading 1</h1>\n",
    "<h2>Heading 2</h2>\n",
    "<h3>Heading 3</h3>\n",
    "<h4>Heading 4</h4>\n",
    "<h5>Heading 5</h5>\n",
    "\"\"\"\n",
    "display(HTML(my_html))"
   ]
  },
  {
   "cell_type": "markdown",
   "metadata": {},
   "source": [
    "### Text Decoration \n",
    "\n",
    "You can use tags to make bold, italic and underlined text. Notice that they don't split lines like heading tags do."
   ]
  },
  {
   "cell_type": "code",
   "execution_count": 4,
   "metadata": {
    "deletable": false,
    "editable": false
   },
   "outputs": [
    {
     "data": {
      "text/html": [
       "\n",
       "This is <i>italic</i>.  \n",
       "This is <b>bold</b>. \n",
       "This is <u>underlined</u>.\n"
      ],
      "text/plain": [
       "<display.HTML object at 0x7faef826bfb0>"
      ]
     },
     "metadata": {},
     "output_type": "display_data"
    }
   ],
   "source": [
    "my_html = \"\"\"\n",
    "This is <i>italic</i>.  \n",
    "This is <b>bold</b>. \n",
    "This is <u>underlined</u>.\n",
    "\"\"\"\n",
    "display(HTML(my_html))"
   ]
  },
  {
   "cell_type": "markdown",
   "metadata": {},
   "source": [
    "### Hyperlinks \n",
    "\n",
    "A hyperlink is a clickable reference to another page. There are two parts of a hyperlink, the link contents and the link target. The contents are what you click and the target is where you go when you click it. "
   ]
  },
  {
   "cell_type": "code",
   "execution_count": 5,
   "metadata": {
    "deletable": false,
    "editable": false
   },
   "outputs": [
    {
     "data": {
      "text/html": [
       "\n",
       "Visit the \n",
       "<a href=\"http://www.lifealgorithmic.com\">\n",
       "    CIS-15\n",
       "</a>\n",
       "class page.\n"
      ],
      "text/plain": [
       "<display.HTML object at 0x7faef82781f0>"
      ]
     },
     "metadata": {},
     "output_type": "display_data"
    }
   ],
   "source": [
    "my_html = \"\"\"\n",
    "Visit the \n",
    "<a href=\"http://www.lifealgorithmic.com\">\n",
    "    CIS-15\n",
    "</a>\n",
    "class page.\n",
    "\"\"\"\n",
    "display(HTML(my_html))"
   ]
  },
  {
   "cell_type": "markdown",
   "metadata": {},
   "source": [
    "### Lists \n",
    "\n",
    "You can make ordered lists (lists with numbers) and unordered lists (lists with bullets) easily with HTML. These use nested elements."
   ]
  },
  {
   "cell_type": "code",
   "execution_count": 6,
   "metadata": {
    "deletable": false,
    "editable": false
   },
   "outputs": [
    {
     "data": {
      "text/html": [
       "\n",
       "<ol>\n",
       "    <li>First item</li>\n",
       "    <li>Second item</li>\n",
       "</ol>\n"
      ],
      "text/plain": [
       "<display.HTML object at 0x7faef8278170>"
      ]
     },
     "metadata": {},
     "output_type": "display_data"
    }
   ],
   "source": [
    "my_html = \"\"\"\n",
    "<ol>\n",
    "    <li>First item</li>\n",
    "    <li>Second item</li>\n",
    "</ol>\n",
    "\"\"\"\n",
    "display(HTML(my_html))"
   ]
  },
  {
   "cell_type": "code",
   "execution_count": 7,
   "metadata": {
    "deletable": false,
    "editable": false
   },
   "outputs": [
    {
     "data": {
      "text/html": [
       "\n",
       "<ul>\n",
       "    <li>Bullet one</li>\n",
       "    <li>Bullet two</li>\n",
       "</ul>\n"
      ],
      "text/plain": [
       "<display.HTML object at 0x7faef8278330>"
      ]
     },
     "metadata": {},
     "output_type": "display_data"
    }
   ],
   "source": [
    "my_html = \"\"\"\n",
    "<ul>\n",
    "    <li>Bullet one</li>\n",
    "    <li>Bullet two</li>\n",
    "</ul>\n",
    "\"\"\"\n",
    "display(HTML(my_html))"
   ]
  },
  {
   "cell_type": "markdown",
   "metadata": {},
   "source": [
    "### Tables \n",
    "\n",
    "Tables let you organize elements into rows and columns. Tables nest just like lists. "
   ]
  },
  {
   "cell_type": "code",
   "execution_count": 8,
   "metadata": {
    "deletable": false,
    "editable": false
   },
   "outputs": [
    {
     "data": {
      "text/html": [
       "\n",
       "<table>\n",
       "    <tr>\n",
       "        <th>Class</th>\n",
       "        <th>Title</th>\n",
       "    </tr>\n",
       "    <tr>\n",
       "        <td>cis-15</td>\n",
       "        <td>Intro. to programming in Python</td>\n",
       "    </tr>\n",
       "    <tr>\n",
       "        <td>cis-192</td>\n",
       "        <td>UNIX/Linux Network Administration</td>\n",
       "    </tr>\n",
       "    <tr>\n",
       "        <td>cis-194</td>\n",
       "        <td>Windows Client Administration</td>\n",
       "    </tr>\n",
       "</table>\n"
      ],
      "text/plain": [
       "<display.HTML object at 0x7faef8278770>"
      ]
     },
     "metadata": {},
     "output_type": "display_data"
    }
   ],
   "source": [
    "my_html = \"\"\"\n",
    "<table>\n",
    "    <tr>\n",
    "        <th>Class</th>\n",
    "        <th>Title</th>\n",
    "    </tr>\n",
    "    <tr>\n",
    "        <td>cis-15</td>\n",
    "        <td>Intro. to programming in Python</td>\n",
    "    </tr>\n",
    "    <tr>\n",
    "        <td>cis-192</td>\n",
    "        <td>UNIX/Linux Network Administration</td>\n",
    "    </tr>\n",
    "    <tr>\n",
    "        <td>cis-194</td>\n",
    "        <td>Windows Client Administration</td>\n",
    "    </tr>\n",
    "</table>\n",
    "\"\"\"\n",
    "display(HTML(my_html))"
   ]
  },
  {
   "cell_type": "markdown",
   "metadata": {},
   "source": [
    "### Images \n",
    "\n",
    "You can display images in HTML using the image tag. "
   ]
  },
  {
   "cell_type": "code",
   "execution_count": 9,
   "metadata": {
    "deletable": false,
    "editable": false
   },
   "outputs": [
    {
     "data": {
      "text/html": [
       "\n",
       "<image src=\"https://www.python.org/static/img/python-logo.png\"/>\n"
      ],
      "text/plain": [
       "<display.HTML object at 0x7faef8278770>"
      ]
     },
     "metadata": {},
     "output_type": "display_data"
    }
   ],
   "source": [
    "my_html = \"\"\"\n",
    "<image src=\"https://www.python.org/static/img/python-logo.png\"/>\n",
    "\"\"\"\n",
    "display(HTML(my_html))"
   ]
  },
  {
   "cell_type": "markdown",
   "metadata": {},
   "source": [
    "### Paragraphs and Breaks\n",
    "\n",
    "You have seen how HTML \"smashes\" text together. You can make sure sentences stay separate using the paragraph `<p>` tag and the break `<br>` tag. \n"
   ]
  },
  {
   "cell_type": "code",
   "execution_count": 10,
   "metadata": {
    "deletable": false,
    "editable": false
   },
   "outputs": [
    {
     "data": {
      "text/html": [
       " \n",
       "<p>Line one</p>\n",
       "<p>Line two</p>\n",
       "<p>Line three</p>\n"
      ],
      "text/plain": [
       "<display.HTML object at 0x7faef82788f0>"
      ]
     },
     "metadata": {},
     "output_type": "display_data"
    }
   ],
   "source": [
    "my_html = \"\"\" \n",
    "<p>Line one</p>\n",
    "<p>Line two</p>\n",
    "<p>Line three</p>\n",
    "\"\"\"\n",
    "display(HTML(my_html))"
   ]
  },
  {
   "cell_type": "markdown",
   "metadata": {},
   "source": [
    "Paragraphs get extra space. Breaks are just a single \"enter\". "
   ]
  },
  {
   "cell_type": "code",
   "execution_count": 11,
   "metadata": {
    "deletable": false,
    "editable": false
   },
   "outputs": [
    {
     "data": {
      "text/html": [
       "\n",
       "Line one<br/>\n",
       "Line two<br/>\n",
       "Line three<br/>\n"
      ],
      "text/plain": [
       "<display.HTML object at 0x7faef8278930>"
      ]
     },
     "metadata": {},
     "output_type": "display_data"
    }
   ],
   "source": [
    "my_html = \"\"\"\n",
    "Line one<br/>\n",
    "Line two<br/>\n",
    "Line three<br/>\n",
    "\"\"\"\n",
    "display(HTML(my_html))"
   ]
  }
 ],
 "metadata": {
  "kernelspec": {
   "display_name": "Python 3.7 (XPython)",
   "language": "python",
   "name": "xpython"
  },
  "language_info": {
   "file_extension": ".py",
   "mimetype": "text/x-python",
   "name": "python",
   "version": "3.7.6"
  }
 },
 "nbformat": 4,
 "nbformat_minor": 4
}
