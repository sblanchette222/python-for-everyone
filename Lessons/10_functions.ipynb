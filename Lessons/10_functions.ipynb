{
 "cells": [
  {
   "cell_type": "markdown",
   "metadata": {},
   "source": [
    "# Functions \n",
    "\n",
    "A *function* groups together instructions and gives them a name. They are the most important way to reuse code. Functions begin with the `def` keyword. Here's a function called `triangle`: "
   ]
  },
  {
   "cell_type": "code",
   "execution_count": null,
   "metadata": {},
   "outputs": [],
   "source": [
    "from Lab.drawing import pen\n",
    "\n",
    "def triangle():\n",
    "    \"\"\"Draw a triangle\"\"\"\n",
    "    pen.draw(70)\n",
    "    pen.turn(120)\n",
    "    pen.draw(70)\n",
    "    pen.turn(120)\n",
    "    pen.draw(70)\n",
    "    pen.turn(120)"
   ]
  },
  {
   "cell_type": "markdown",
   "metadata": {},
   "source": [
    "Run the code in the cell. What happened? \n",
    "\n",
    "The code above *defines* the function. Defining a function makes the name of the funtion available but does not execute the instructions *inside* the function. They are executed when the function is *called* or invoked. The code in the cell below calls `triangle`:"
   ]
  },
  {
   "cell_type": "code",
   "execution_count": null,
   "metadata": {},
   "outputs": [],
   "source": [
    "triangle()\n",
    "pen.show()"
   ]
  },
  {
   "cell_type": "markdown",
   "metadata": {},
   "source": [
    "A fucntion definition is a *compound statement*."
   ]
  },
  {
   "cell_type": "markdown",
   "metadata": {},
   "source": [
    "## Compound Statements and Whitespace \n",
    "\n",
    " A compound statement is a is a statement that contains other code. The code inside of a compound statement begins after a colon and is indented to the right of the beginning of the statement. \n",
    "\n",
    "![Compound Statements](images/python_compound_statements.png)"
   ]
  },
  {
   "cell_type": "code",
   "execution_count": null,
   "metadata": {},
   "outputs": [],
   "source": [
    "def my_function():\n",
    "    \"\"\"Say Hello!\"\"\"\n",
    "    a = 'Hello'\n",
    "    b = 'World'\n",
    "    print ('{}, {}!'.format(a,b))"
   ]
  },
  {
   "cell_type": "code",
   "execution_count": null,
   "metadata": {},
   "outputs": [],
   "source": [
    "my_function()"
   ]
  },
  {
   "cell_type": "markdown",
   "metadata": {},
   "source": [
    "### Python and Whitespace \n",
    "\n",
    "The use of whitespace is controversial in Python. The statements inside of a function must be ligned up to the right of the function and even with eachother. You can use either tabs or spaces but you can't mix them. Use of whitespace in Python is designed to help you easily see the instructions that are inside and oustide of a function. \n",
    "\n",
    "```python\n",
    "def line_up():\n",
    "    print('This is inside')\n",
    "    print('Also inside')\n",
    "print('This is outside')\n",
    "print('Still outside')\n",
    "```\n",
    "\n",
    "Most other programming languages like, for example C, C++, Java and JavaScript, use braces to signify the beginning and end of a function. The rule in those languages is that \"whitespace doesn't matter.\" Here's an example of \"Hello World\" in C++: \n",
    "\n",
    "```c++\n",
    "int main() { \n",
    "    std::string my_name = \"Boaty McBoatface\";\n",
    "    std::cout << \"Hello \" << my_name << std::endl;\n",
    "}\n",
    "```\n",
    "\n",
    "That's the way you're *supposed* to write it. But, you could write it to look much worse:\n",
    "\n",
    "```c++\n",
    "int main(){std::string my_name=\"Boaty McBoatface\";std::cout<<\"Hello \"<<my_name<<std::endl;}\n",
    "```\n",
    "\n",
    "Witespace in Python enforces a readable style. Not everyone likes that. "
   ]
  },
  {
   "cell_type": "markdown",
   "metadata": {},
   "source": [
    "### Define Your First Python Function\n",
    "\n",
    "Write a function called `square` that draws a square:"
   ]
  },
  {
   "cell_type": "code",
   "execution_count": null,
   "metadata": {},
   "outputs": [],
   "source": []
  },
  {
   "cell_type": "markdown",
   "metadata": {},
   "source": [
    "Now your *call* your `square` function"
   ]
  },
  {
   "cell_type": "code",
   "execution_count": null,
   "metadata": {},
   "outputs": [],
   "source": []
  },
  {
   "cell_type": "markdown",
   "metadata": {},
   "source": [
    "## Function Arguments \n",
    "\n",
    "Funtions are like machines that take *inputs* and produce *outputs*. The input to the function is called an *argument* and the output is called a *return value*. Function arguments are named in the function definition between the parentheses, they are separated by commas:  "
   ]
  },
  {
   "cell_type": "code",
   "execution_count": null,
   "metadata": {},
   "outputs": [],
   "source": [
    "def triangle_anysize(size):\n",
    "    \"\"\"This triangle function takes an input: size\"\"\"\n",
    "    pen.draw(size)\n",
    "    pen.turn(120)\n",
    "    pen.draw(size)\n",
    "    pen.turn(120)\n",
    "    pen.draw(size)\n",
    "    pen.turn(120)"
   ]
  },
  {
   "cell_type": "markdown",
   "metadata": {},
   "source": [
    "When you call a function that takes an argument you must specify a value for the argument:"
   ]
  },
  {
   "cell_type": "code",
   "execution_count": null,
   "metadata": {},
   "outputs": [],
   "source": [
    "triangle_anysize(50)\n",
    "pen.show()"
   ]
  },
  {
   "cell_type": "markdown",
   "metadata": {},
   "source": [
    "It's an error to call a function with too many or too few arguments:"
   ]
  },
  {
   "cell_type": "code",
   "execution_count": null,
   "metadata": {},
   "outputs": [],
   "source": [
    "triangle_anysize()"
   ]
  },
  {
   "cell_type": "markdown",
   "metadata": {},
   "source": [
    "Functions are useful becuase they let you reuse code. Functions can be called over and over. For example:"
   ]
  },
  {
   "cell_type": "code",
   "execution_count": null,
   "metadata": {},
   "outputs": [],
   "source": [
    "triangle_anysize(20)\n",
    "triangle_anysize(30)\n",
    "triangle_anysize(40)\n",
    "pen.show()"
   ]
  },
  {
   "cell_type": "markdown",
   "metadata": {},
   "source": [
    "Functions can have any number of argumens. This function takes two arguments, `name` and `color`. The function uses HTML to print out the contents of `name` in the `color` of your coice: "
   ]
  },
  {
   "cell_type": "code",
   "execution_count": null,
   "metadata": {},
   "outputs": [],
   "source": [
    "from IPython.core.display import HTML\n",
    "\n",
    "def html_nametag(name, color): \n",
    "    \"\"\"Print a nametag using HTML\"\"\"\n",
    "    return HTML(f'''<h1 style=\"color: {color}\">Hello I'm {name}</h1>''')"
   ]
  },
  {
   "cell_type": "markdown",
   "metadata": {},
   "source": [
    "When you call the fucntion you must supply a value for both `name` and `color`:"
   ]
  },
  {
   "cell_type": "code",
   "execution_count": null,
   "metadata": {},
   "outputs": [],
   "source": [
    "html_nametag(\"Mike\", \"blue\")"
   ]
  },
  {
   "cell_type": "markdown",
   "metadata": {},
   "source": [
    "### Write a Function with Arguments\n",
    "\n",
    "Write a function called `print_reverse` that takes a person's name in two arguments `first_name` and `last_name`. The function prints the name, last name first with a comma between them. For example `Matera, Mike`."
   ]
  },
  {
   "cell_type": "code",
   "execution_count": null,
   "metadata": {},
   "outputs": [],
   "source": []
  },
  {
   "cell_type": "markdown",
   "metadata": {},
   "source": [
    "Call your fuction using your own name: "
   ]
  },
  {
   "cell_type": "code",
   "execution_count": null,
   "metadata": {},
   "outputs": [],
   "source": []
  },
  {
   "cell_type": "markdown",
   "metadata": {},
   "source": [
    "## Return Values \n",
    "\n",
    "The *return value* is the output of a function. The return value is passed back to the place where the function is called. Inside of a function the `return` keyword causes a function to exit (or *return*) the flow of the program to where the function was called."
   ]
  },
  {
   "cell_type": "code",
   "execution_count": null,
   "metadata": {},
   "outputs": [],
   "source": [
    "def random_number():\n",
    "    return 4 "
   ]
  },
  {
   "cell_type": "markdown",
   "metadata": {},
   "source": [
    "The return value can be stored in a variable. In the code below the return value from `random_number` is stored in the variable `num`. "
   ]
  },
  {
   "cell_type": "code",
   "execution_count": null,
   "metadata": {},
   "outputs": [],
   "source": [
    "num = random_number()\n",
    "print('num is:', num)"
   ]
  },
  {
   "cell_type": "markdown",
   "metadata": {},
   "source": [
    "The `return` statement stops the execution of a function, no code after the `return` statement is executed. "
   ]
  },
  {
   "cell_type": "code",
   "execution_count": null,
   "metadata": {},
   "outputs": [],
   "source": [
    "def early_return():\n",
    "    print(\"You see this.\")\n",
    "    return \n",
    "    print(\"Not this.\")\n",
    "    \n",
    "early_return()"
   ]
  },
  {
   "cell_type": "markdown",
   "metadata": {},
   "source": [
    "A function can return any number of values. The values in the return are separated by commas."
   ]
  },
  {
   "cell_type": "code",
   "execution_count": null,
   "metadata": {},
   "outputs": [],
   "source": [
    "def multiple_values():\n",
    "    return \"One\", \"Two\", \"Three\""
   ]
  },
  {
   "cell_type": "markdown",
   "metadata": {},
   "source": [
    "When a function returns mutiple values all of the values must be received by variables on the left of the equal sign. "
   ]
  },
  {
   "cell_type": "code",
   "execution_count": null,
   "metadata": {},
   "outputs": [],
   "source": [
    "one, two, three = multiple_values()"
   ]
  },
  {
   "cell_type": "markdown",
   "metadata": {},
   "source": [
    "Notice that the syntax is similar to how you use `sys.argv`. "
   ]
  },
  {
   "cell_type": "markdown",
   "metadata": {},
   "source": [
    "## Mixing Arguments and Return Values \n",
    "\n",
    "Most functions both take arguments and return values. Here's an example of a function that adds two numbers and returns their sum. "
   ]
  },
  {
   "cell_type": "code",
   "execution_count": null,
   "metadata": {},
   "outputs": [],
   "source": [
    "def add_two_numbers(a, b) :\n",
    "    c = a + b \n",
    "    return c "
   ]
  },
  {
   "cell_type": "markdown",
   "metadata": {},
   "source": [
    "The caller of the function supplies input and stores the returned output of the function:"
   ]
  },
  {
   "cell_type": "code",
   "execution_count": null,
   "metadata": {},
   "outputs": [],
   "source": [
    "s = add_two_numbers(10, 100)\n",
    "print(s)"
   ]
  },
  {
   "cell_type": "markdown",
   "metadata": {},
   "source": [
    "Here's another example of a function that performs math. This does three operations and returns the results:"
   ]
  },
  {
   "cell_type": "code",
   "execution_count": null,
   "metadata": {},
   "outputs": [],
   "source": [
    "def do_math(a, b) :\n",
    "  su = a + b \n",
    "  pr = a * b \n",
    "  ra = a / b \n",
    "  return su, pr, ra "
   ]
  },
  {
   "cell_type": "markdown",
   "metadata": {},
   "source": [
    "You can store multiple return values with multiple variables:"
   ]
  },
  {
   "cell_type": "code",
   "execution_count": null,
   "metadata": {},
   "outputs": [],
   "source": [
    "ret1, ret2, ret3 = do_math(12, 45)\n",
    "print(f'The sum: {ret1}, product: {ret2} ratio: {ret3}')"
   ]
  },
  {
   "cell_type": "markdown",
   "metadata": {},
   "source": [
    "## An Example Problem \n",
    "\n",
    "I will ask you to write functions in assignments and on the midterm and the final. Writing functions to specification is a very common task in the life of a programmer. A function specification gives you the four important things you need to know when you write a function: \n",
    "\n",
    "* The name of the function \n",
    "* The function arguments \n",
    "* The return value\n",
    "* A description of what the function does. \n",
    "\n",
    "Here's an example speicification:\n",
    "\n",
    "Write a function called `power_of` that takes two arguments, `sig` and `pow`. The function should return the value: \n",
    "\n",
    "\\begin{equation*}\n",
    "sig^\\left( pow \\right)\n",
    "\\end{equation*}\n",
    "\n",
    "* Name: `power_of`\n",
    "* Arguments:\n",
    "    * `sig` The significand (`float`) \n",
    "    * `pow` The exponent (`float`)\n",
    "* Returns: The significand to the `pow` power.\n",
    "\n",
    "Here's the solution:"
   ]
  },
  {
   "cell_type": "code",
   "execution_count": null,
   "metadata": {},
   "outputs": [],
   "source": [
    "def power_of(sig, pow):\n",
    "    return sig ** pow"
   ]
  },
  {
   "cell_type": "markdown",
   "metadata": {},
   "source": [
    "When you write functions be sure to test them. The code in the cell below runs the `power_of` function and prints the return value. "
   ]
  },
  {
   "cell_type": "code",
   "execution_count": null,
   "metadata": {},
   "outputs": [],
   "source": [
    "print(\"Two to the fifth is:\", power_of(2,5))"
   ]
  },
  {
   "cell_type": "markdown",
   "metadata": {},
   "source": [
    "## Try It Yourself \n",
    "\n",
    "Write a function called `is_greater` that takes two arguments called `a` and `b`. The function returns `True` if `a` is greater than `b`, `False` otherwise.\n",
    "\n",
    "* Name: `is_greater`\n",
    "* Arguments:\n",
    "    * `a` A number (`float`)\n",
    "    * `b` A number (`float`)\n",
    "* Returns:\n",
    "    * True if `a` is greater than `b`. `False` otherwise. "
   ]
  },
  {
   "cell_type": "code",
   "execution_count": null,
   "metadata": {},
   "outputs": [],
   "source": []
  },
  {
   "cell_type": "markdown",
   "metadata": {},
   "source": [
    "Call your function with various values and print the result to make sure your function works."
   ]
  },
  {
   "cell_type": "code",
   "execution_count": null,
   "metadata": {},
   "outputs": [],
   "source": []
  },
  {
   "cell_type": "markdown",
   "metadata": {},
   "source": [
    "## Designing with Functions \n",
    "\n",
    "Functions give you a way to name snippets of code. The name of the function should succinctly describe what the function does. Here's an example of a function that reads the first line of a file:"
   ]
  },
  {
   "cell_type": "code",
   "execution_count": null,
   "metadata": {},
   "outputs": [],
   "source": [
    "def read_first_line(filename):\n",
    "    \"\"\"Read the first line of a file.\"\"\"\n",
    "    file_handle = open(filename, 'r') \n",
    "    line = file_handle.readline()\n",
    "    file_handle.close()\n",
    "    return line"
   ]
  },
  {
   "cell_type": "markdown",
   "metadata": {},
   "source": [
    "Calling the function returns the first line of the file:"
   ]
  },
  {
   "cell_type": "code",
   "execution_count": null,
   "metadata": {},
   "outputs": [],
   "source": [
    "print(read_first_line('example.txt'))"
   ]
  },
  {
   "cell_type": "markdown",
   "metadata": {},
   "source": [
    "### Functions Have Docstrings\n",
    "\n",
    "Functions can have docstrings (just like files) to help readers understand what they do. For complicated functions docstrings describe in detail the function arguments and return values. Here's a  docstring describing the `read_first_line` function. "
   ]
  },
  {
   "cell_type": "code",
   "execution_count": null,
   "metadata": {},
   "outputs": [],
   "source": [
    "def read_first_line(filename) :\n",
    "    \"\"\"\n",
    "    Read the first line of a file.\n",
    "    \n",
    "    Arguments:\n",
    "        filename - The name of the file to read. \n",
    "    \n",
    "    Returns: A str containing the first line of the file.\n",
    "    \"\"\"\n",
    "    file = open(filename, 'r') \n",
    "    line = file.readline()\n",
    "    file.close()\n",
    "    return line"
   ]
  },
  {
   "cell_type": "markdown",
   "metadata": {},
   "source": [
    "The `help()` function reads the docstring:"
   ]
  },
  {
   "cell_type": "code",
   "execution_count": null,
   "metadata": {},
   "outputs": [],
   "source": [
    "help(read_first_line)"
   ]
  },
  {
   "cell_type": "markdown",
   "metadata": {},
   "source": [
    "When it's not obvious what the function arguments are you should be more descriptive in your docstring. It's also important sometimes to describe what the return value is (or might be)."
   ]
  },
  {
   "cell_type": "code",
   "execution_count": null,
   "metadata": {},
   "outputs": [],
   "source": [
    "def read_a_line(filename, offset) :\n",
    "    '''\n",
    "    Reads a line in the file after seeking to a particular place. \n",
    "    \n",
    "    Arguments:\n",
    "      filename - The name of the file to read. \n",
    "      offset - The place in the file to start reading. \n",
    "      \n",
    "    Returns: \n",
    "      A string containing the line that was read. \n",
    "    ''' \n",
    "    file_handle = open(filename)\n",
    "    file_handle.seek(offset)\n",
    "    line = file_handle.readline()\n",
    "    file_handle.close()\n",
    "    return line"
   ]
  },
  {
   "cell_type": "markdown",
   "metadata": {},
   "source": [
    "Now the `help` function shows a really useful message:"
   ]
  },
  {
   "cell_type": "code",
   "execution_count": null,
   "metadata": {},
   "outputs": [],
   "source": [
    "help(read_a_line)"
   ]
  },
  {
   "cell_type": "markdown",
   "metadata": {},
   "source": [
    "There are official Python guidelines for how to use docstrings in functions:\n",
    "\n",
    "* https://www.python.org/dev/peps/pep-0257/\n",
    "\n",
    "It will be difficult at first to know what code you should put in a function. Don't worry, it's hard for everyone at first! Practice, practice, practice! "
   ]
  },
  {
   "cell_type": "markdown",
   "metadata": {},
   "source": [
    "## Function Variables and Scope \n",
    "\n",
    "Variables created inside of a function, including the function arguments, are *private* to the function. That means they only exist while the funciton is executing and disappear after the function returns. For beginners this can be confusing, but it's an essential feature of Python and other programming languages. The validity of a variable is called *scope*. "
   ]
  },
  {
   "cell_type": "markdown",
   "metadata": {},
   "source": [
    "### Global Variables\n",
    "\n",
    "Variables that are defined all the way to the left (also called top-level or file scope) are *global variables*. Global variables are available everywhere in a program, including inside of functions. The code below demonstrates that the variable `a` can be used inside of the function: "
   ]
  },
  {
   "cell_type": "code",
   "execution_count": null,
   "metadata": {},
   "outputs": [],
   "source": [
    "# a is a global variable.  \n",
    "a = 10\n",
    "\n",
    "def func(b):\n",
    "    # b is private to the function and can \n",
    "    # only be used inside of it. \n",
    "    print(f'a is {a} and b is {b}')\n",
    "    \n",
    "# call func and pass in a+1\n",
    "func(a+1)"
   ]
  },
  {
   "cell_type": "markdown",
   "metadata": {},
   "source": [
    "Global variables sometimes lead to confusion. When a function uses a variable with the same name as a global variable the one inside of the function is used. Here's an example where a name conflict has confusing results:"
   ]
  },
  {
   "cell_type": "code",
   "execution_count": null,
   "metadata": {},
   "outputs": [],
   "source": [
    "a = 10 \n",
    "print(a)\n",
    "\n",
    "def func(a):\n",
    "    a = a + 1\n",
    "    print(a)\n",
    "\n",
    "func(a)\n",
    "print(a)"
   ]
  },
  {
   "cell_type": "markdown",
   "metadata": {},
   "source": [
    "**Can you explain what happens when you run this code?** Remember there are *two* variables named `a`. "
   ]
  },
  {
   "cell_type": "markdown",
   "metadata": {},
   "source": [
    "### The Global Keyword \n",
    "\n",
    "When you use a global variable inside of a function Python has to make a guess. Should I use the global variable or should I create a local variable? Python will always choose to make a local variable. The `global` keyword tells Python to use the global variable rather than create a new local one. Look at the difference between the two functions below: "
   ]
  },
  {
   "cell_type": "code",
   "execution_count": null,
   "metadata": {},
   "outputs": [],
   "source": [
    "# a is global \n",
    "a = \"global\"\n",
    "\n",
    "def local_a():\n",
    "    a = \"inside of local_a()\"\n",
    "\n",
    "def global_a():\n",
    "    global a # Tell Python to use global \"a\"\n",
    "    a = \"inside of global_a()\"\n",
    "\n",
    "\n",
    "print(a)\n",
    "local_a()\n",
    "print(a)\n",
    "global_a()\n",
    "print(a)"
   ]
  },
  {
   "cell_type": "markdown",
   "metadata": {},
   "source": [
    "### Avoid Global Variables\n",
    "\n",
    "Sometimes global variables are necessary but unless there's no other way to do something it's a good idea to avoid global variables. Global variables make programs harder to read and can lead to confusing problems. For example, this program has an error, but it almost looks right:"
   ]
  },
  {
   "cell_type": "code",
   "execution_count": null,
   "metadata": {},
   "outputs": [],
   "source": [
    "def add_two_numbers() :\n",
    "    global a, b \n",
    "    c = a + b \n",
    "    \n",
    "a = 10 \n",
    "b = 20 \n",
    "c = 0\n",
    "add_two_numbers()\n",
    "print (c)"
   ]
  },
  {
   "cell_type": "markdown",
   "metadata": {},
   "source": [
    "**Before you use a global ask yourself, \"Can I do this another way?\" If answer is yes then you probably should.** "
   ]
  },
  {
   "cell_type": "markdown",
   "metadata": {},
   "source": [
    "## The main() Function \n",
    "\n",
    "In the C programming language every program has a `main` function. The `main` function is called to start the program and when the `main` function exits the program ends. Python works differently, it just starts executing instructions in your file, starting at the top and ending at the bottom. This is great for small programs but as programs get more complex it's a problem because all of the variables in your program are global variables. \n",
    "\n",
    "**From now on your Python programs should not use global variables and not have code outside of a function.** Starting this week your program should use a template similar to the one below: "
   ]
  },
  {
   "cell_type": "code",
   "execution_count": null,
   "metadata": {},
   "outputs": [],
   "source": [
    "\"\"\"\n",
    "CIS-15 Program with Functions \n",
    "Mike Matera\n",
    "\"\"\"\n",
    "\n",
    "# It's always okay to have import lines at top-level \n",
    "import sys \n",
    "\n",
    "\n",
    "def main():\n",
    "    \"\"\"All code goes inside of a function.\"\"\"\n",
    "    print(f'Hello, my name is {sys.argv[0]}')\n",
    "    \n",
    "\n",
    "# These two lines call the main() function when your program\n",
    "# is run from the command line. More on this later!\n",
    "if __name__ == '__main__':\n",
    "    main()"
   ]
  },
  {
   "cell_type": "markdown",
   "metadata": {},
   "source": [
    "<div class=\"alert alert-danger\">\n",
    "\n",
    "<h3>WARNING: Functions in Functions</h3>\n",
    "\n",
    "In Python it's posible to define a function *inside* of another function. **DO NOT DEFINE A FUNCTION INSIDE OF ANOTHER FUNCTION** unless you know what you're doing. All of your functions should begin all the way to the left of the page. \n",
    "</div>"
   ]
  },
  {
   "cell_type": "markdown",
   "metadata": {},
   "source": [
    "## Functions are Variables Too \n",
    "\n",
    "In Python everything is a variable, including functions. The `def` keyword creates a variable of type function. Take a look at the following code. "
   ]
  },
  {
   "cell_type": "code",
   "execution_count": null,
   "metadata": {},
   "outputs": [],
   "source": [
    "def myfunc() :\n",
    "    print('This is my function')\n",
    "\n",
    "\n",
    "print ('The type of myfunc is:', type(myfunc))"
   ]
  },
  {
   "cell_type": "markdown",
   "metadata": {},
   "source": [
    "This makes it possible to do many interesting things with functions in Python. Here's an example where a new variable is created called `alias`. The `alias` variable is assigned the *value* of the function. Note the lack of parentheses in the assignment:"
   ]
  },
  {
   "cell_type": "code",
   "execution_count": null,
   "metadata": {},
   "outputs": [],
   "source": [
    "def myfunc():\n",
    "    print('This is my function')\n",
    "\n",
    "\n",
    "alias = myfunc\n",
    "alias()"
   ]
  }
 ],
 "metadata": {
  "kernelspec": {
   "display_name": "Python 3",
   "language": "python",
   "name": "python3"
  },
  "language_info": {
   "codemirror_mode": {
    "name": "ipython",
    "version": 3
   },
   "file_extension": ".py",
   "mimetype": "text/x-python",
   "name": "python",
   "nbconvert_exporter": "python",
   "pygments_lexer": "ipython3",
   "version": "3.8.3"
  }
 },
 "nbformat": 4,
 "nbformat_minor": 4
}
