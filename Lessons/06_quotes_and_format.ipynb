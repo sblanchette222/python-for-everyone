{
 "cells": [
  {
   "cell_type": "markdown",
   "metadata": {},
   "source": [
    "# Quotes and Formatting\n",
    "\n",
    "Quotes mark the beginning and end of a string. There are several types of quotes in Python and they serve different purposes. You sould know each of the quote types and when to use them. \n",
    "\n",
    "## Reference \n",
    "\n",
    "Here's a table to help you remember what quote to use: \n",
    "\n",
    "| Name | Example | Use |\n",
    "| :- | :- | :- |\n",
    "| Single Quote | `'Hello, world!'` | Good for general use. |\n",
    "| Double Quote | `\"Hello, world!\"` | Good for general use. | \n",
    "| Triple Quotes | `'''Hello, world!'''` <br> `\"\"\"Hello, world!\"\"\"` | Stronger than single or double quotes. You can have multiple lines inside them. |\n",
    "| Format Strings | `f'Hello, my name is {name}'`<br>`f\"Hello, my name is {name}\"`<br>`f'''Hello, my name is {name}'''`<br>`f\"\"\"Hello, my name is {name}\"\"\"` | Variable interpolation is convenient.<br>You can use double or single or triple quotes too.|\n",
    "| Raw Strings | `r\"Newline (\\n) is literal\"` | Raw strings don't change the text at all |  \n",
    "| Byte Strings | `b'\\xF0\\x9F\\x98\\xB8'` | Write strings in their lower level byte encoding. | "
   ]
  },
  {
   "cell_type": "markdown",
   "metadata": {},
   "source": [
    "## Triple Quotes\n",
    "\n",
    "The quotes we've used so far (`\"` and `'`) have a key limitation: They are common in English which sometimes causes errors. Here's an example of a common error using single quotes:\n",
    "\n",
    "```python\n",
    "print('I couldn't find that file.')\n",
    "```"
   ]
  },
  {
   "cell_type": "markdown",
   "metadata": {},
   "source": [
    "**Notice the funny changes in color?** That's the syntax highlighter telling you that something is wrong. Another limitation single and double quotes is that a string cannot span multiple lines. So this statement is also an error: \n",
    "\n",
    "```python\n",
    "print(\"I do not love you except because I love you; \n",
    "I go from loving to not loving you,\")\n",
    "```"
   ]
  },
  {
   "cell_type": "markdown",
   "metadata": {},
   "source": [
    "The triple quote is three copies of either a double-quote character `\"` or a single-quote character `'`. Triple quotes are great because it's very rare to have three copies of a quote character in normal English (or any other language for that matter). Also, triple quoted strings can contain multiple lines. \n",
    "\n",
    "```python\n",
    "print (\"\"\"\n",
    "Some say the world will end in fire,\n",
    "Some say in ice.\n",
    "From what I’ve tasted of desire\n",
    "I hold with those who favor fire.\n",
    "But if it had to perish twice,\n",
    "I think I know enough of hate\n",
    "To say that for destruction ice\n",
    "Is also great\n",
    "And would suffice.\n",
    "\"\"\")\n",
    "```\n",
    "\n",
    "Copy the Robert Frost poem above into the next cell:"
   ]
  },
  {
   "cell_type": "code",
   "execution_count": null,
   "metadata": {},
   "outputs": [],
   "source": []
  },
  {
   "cell_type": "markdown",
   "metadata": {},
   "source": [
    "**Notice how the whole poem is just one string!**"
   ]
  },
  {
   "cell_type": "markdown",
   "metadata": {},
   "source": [
    "## The f-String \n",
    "\n",
    "<div class=\"alert alert-warning\"> \n",
    "    <strong>Essential!</strong><br>\n",
    "    The f-string is the most important thing you'll learn this week!\n",
    "</div>\n",
    "\n",
    "An f-string is just adding an `f` to *any* of the types of strings you've already learned. For example:\n",
    "\n",
    "```python\n",
    "print(f\"Hello World\")\n",
    "```\n",
    "\n",
    "What makes the f-string useful is that it does *variable interpolation*. That means you can name variables in the string:\n",
    "\n",
    "```python\n",
    "what = \"World\"\n",
    "print(f\"Hello {what}\")\n",
    "```\n",
    "\n",
    "Try typing the example code into the next cell."
   ]
  },
  {
   "cell_type": "code",
   "execution_count": null,
   "metadata": {},
   "outputs": [],
   "source": []
  },
  {
   "cell_type": "markdown",
   "metadata": {},
   "source": [
    "**What happens if you forget the `f`?** Variable interpolation saves a ton of time and effort by making it much more convenient to use variables and language together. In the practice from the last lesson you made a version of the Pablo Neruda poem where you could change \"love\" with any other word. Here's a snippet of that code: \n",
    "\n",
    "```python\n",
    "word = 'program'\n",
    "print (\"I do not\", word, \"you except because I\", word, \"you;\") \n",
    "print (\"I go from \" + word + \"ing to not \" + word + \"ing you,\")\n",
    "```\n",
    "\n",
    "You may have noticed that it adds a lot of extra work when you have variables intermingled with words becuase you have to\n",
    "start and stop quotes. The f-string makes that much simpler. Here's how you could rewrite the poem using f-strings:\n",
    "\n",
    "```python\n",
    "word = 'program'\n",
    "print (f\"I do not {word} you except because I {word} you;\") \n",
    "print (f\"I go from {word}ing to not {word}ing you,\")\n",
    "```\n",
    "\n",
    "Enter the example into the next cell: "
   ]
  },
  {
   "cell_type": "markdown",
   "metadata": {},
   "source": []
  },
  {
   "cell_type": "markdown",
   "metadata": {},
   "source": [
    "The f-string gets its name from the word **format** and is discussed further in the next section. "
   ]
  },
  {
   "cell_type": "markdown",
   "metadata": {},
   "source": [
    "## Formatting \n",
    "\n",
    "Python provides a way to mix variables into quoted strings. Almost every program will use formatting in some way because it makes for informative messages to the user. There are two ways that we'll use in the class to format text. The ``format()`` function, which has existed since Python 3 (but was back-ported to Python 2) and the newer f-string which was introduced in Python 3.6. \n",
    "\n",
    "But first, let's talk about the *dot*. "
   ]
  },
  {
   "cell_type": "markdown",
   "metadata": {},
   "source": [
    "### Functions and the Dot Operator\n",
    "\n",
    "The `format()` function has a different syntax than `print()`. The `format()` function operates on a string using the dot (`.`) operator. The picture shows how to use the `format()` function with a string.\n",
    "\n",
    "![The dot operator](images/python_dot_operator.png)\n",
    "\n",
    "Try the code in the picture using `print()` as shown in the example: \n",
    "\n",
    "```python \n",
    "print(\"Hello {}\".format(\"World\"))\n",
    "```"
   ]
  },
  {
   "cell_type": "code",
   "execution_count": null,
   "metadata": {},
   "outputs": [],
   "source": []
  },
  {
   "cell_type": "markdown",
   "metadata": {},
   "source": [
    "Most of the time when you use a function like `format()` you want to store the result into a variable so that you can use it later. Adding an equal sign (`=`) and the name of a variable accomplishes this as shown.\n",
    "\n",
    "![Assignment and the dot operator](images/python_dot_operator_assignment.png)\n",
    "\n",
    "Execute the example code from the picture and notice that the formatted string is assigned to the variable `phrase`."
   ]
  },
  {
   "cell_type": "code",
   "execution_count": null,
   "metadata": {},
   "outputs": [],
   "source": []
  },
  {
   "cell_type": "markdown",
   "metadata": {},
   "source": [
    "**Print `phrase` so you can see what is inside of it.**"
   ]
  },
  {
   "cell_type": "markdown",
   "metadata": {},
   "source": [
    "### The `format()` Function \n",
    "\n",
    "The format function operates on a string, called a *template*, that contains *holes* denoted by the `{}` characters. The template can contain any number of holes and holes can be located anywhere in the string. This example creates a template (named `template`) then uses the format function to fill in the hole.\n",
    "\n",
    "```python\n",
    "template = \"Hello, my name is {}\" \n",
    "print(template.format(\"Mike\"))\n",
    "```\n",
    "\n",
    "Run the code in the next cell:"
   ]
  },
  {
   "cell_type": "code",
   "execution_count": null,
   "metadata": {},
   "outputs": [],
   "source": []
  },
  {
   "cell_type": "markdown",
   "metadata": {},
   "source": [
    "**Add a new `print()` statement to print a nametag for yourself.** \n",
    "\n",
    "Here's an example where `format()` fills in multiple holes in the template: \n",
    "\n",
    "```python \n",
    "template = \"My name is {} and my favorite color is {}\" \n",
    "print(template.format(\"Mike\", \"blue\"))\n",
    "```\n",
    "\n",
    "Type in the example and change it to print your name and your favorite color."
   ]
  },
  {
   "cell_type": "code",
   "execution_count": null,
   "metadata": {},
   "outputs": [],
   "source": []
  },
  {
   "cell_type": "markdown",
   "metadata": {},
   "source": [
    "**Notice that the number of arguments matches the number of holes**, It's an error to provide too few arguments. This code will cause an exception: \n",
    "\n",
    "```python \n",
    "template = \"My name is {} and my favorite color is {}\" \n",
    "print(template.format(\"Mike\"))\n",
    "```\n",
    "\n",
    "It's okay to supply more arguments than holes (though it's probably a mistake). Extra arguments are ignored. This code works fine but looks funny: \n",
    "\n",
    "```python\n",
    "message = \"Hello, my name is {} and I'm a {}\"\n",
    "message.format('Mike', 'programmer', 'and nerd')\n",
    "```"
   ]
  },
  {
   "cell_type": "code",
   "execution_count": null,
   "metadata": {},
   "outputs": [],
   "source": []
  },
  {
   "cell_type": "markdown",
   "metadata": {},
   "source": [
    "### Formatting vs. f-strings\n",
    "\n",
    "An f-string is the easiest way to format a string. The f-string causes Python to do *variable interpolation*. That means you can embed the name of a variable directly into the string and Python will replace the name with the variable's value. The difference between an f-string and a regular string is that an f-string has holes, similar to the `format()` holes, but the holes have a name. The name of the hole has to be a variable in your program. Here's an example of a Mad Lib program implemented with the `format()` function. \n",
    "\n",
    "```python\n",
    "verb = 'leap'\n",
    "noun = 'chickens'\n",
    "print ('I like to {} with {}.'.format(verb, noun))\n",
    "```\n",
    "\n",
    "Here's the same program, but implemented with an f-string.\n",
    "\n",
    "```python\n",
    "verb = 'run'\n",
    "noun = 'chickens'\n",
    "print (f'I like to {verb} with {noun}.')\n",
    "```\n",
    "\n",
    "Notice how when the `f` is before the quote character the string becomes an f-string. The f can appear before any of the quote characters (including triple quotes). You can reference the name of a variable inside of an f-string by placing its name inside of parens. Type in both examples. "
   ]
  },
  {
   "cell_type": "code",
   "execution_count": null,
   "metadata": {},
   "outputs": [],
   "source": []
  },
  {
   "cell_type": "markdown",
   "metadata": {},
   "source": [
    "**Which one do you like better?**"
   ]
  },
  {
   "cell_type": "markdown",
   "metadata": {},
   "source": [
    "## Advanced Formatting \n",
    "\n",
    "The f-string is convenient and compact but the `format()` function is more flexible and powerful. The format funciton lets you choose, reorder and reuse the values that go in the holes.  \n",
    "\n",
    "### Numbered Holes \n",
    "\n",
    "A numbered hole is a format hole that has a number inside. For example `{0}` and `{1}`. A numbered hole refers to the corresponding argument to `format()`. The first argument is zero `{0}`. Numbered holes allow you to print arguments in any order:\n",
    "\n",
    "```python\n",
    "print(\"{1} is {0}\".format('down', 'up'))\n",
    "```\n",
    "\n",
    "Try the example. Confusing? "
   ]
  },
  {
   "cell_type": "code",
   "execution_count": null,
   "metadata": {},
   "outputs": [],
   "source": []
  },
  {
   "cell_type": "markdown",
   "metadata": {},
   "source": [
    "You can reuse numbered arguments as many times as you want. For example:\n",
    "\n",
    "```python\n",
    "print(\"{0}, {0} and {1}\".format('up', 'away'))\n",
    "```\n",
    "\n",
    "What does Superman say?"
   ]
  },
  {
   "cell_type": "code",
   "execution_count": null,
   "metadata": {},
   "outputs": [],
   "source": []
  },
  {
   "cell_type": "markdown",
   "metadata": {},
   "source": [
    "But, you cannot mix numbered and unnumbered holes. This is an error:\n",
    "\n",
    "```python\n",
    "print(\"{1} is {}\".format('down', 'up'))\n",
    "```"
   ]
  },
  {
   "cell_type": "code",
   "execution_count": null,
   "metadata": {},
   "outputs": [],
   "source": []
  },
  {
   "cell_type": "markdown",
   "metadata": {},
   "source": [
    "### Named Holes \n",
    "\n",
    "Named holes work similary to the f-string. A named hole is just like the named hole in the f-string. For example, it looks like `{holename}`. However, variables in your program are not automatically placed into named holes like they are with f-strings. You have to connect them using a special kind of argument to format. This is a little complicated at first, but you'll get used to it: \n",
    "\n",
    "```python\n",
    "verb = 'run'\n",
    "noun = 'chickens'\n",
    "print ('I like to {word1} with {word2}.'.format(word1=verb, word2=noun))\n",
    "```\n",
    "\n",
    "Type in that example:"
   ]
  },
  {
   "cell_type": "code",
   "execution_count": null,
   "metadata": {},
   "outputs": [],
   "source": []
  },
  {
   "cell_type": "markdown",
   "metadata": {},
   "source": [
    "**Do you see the connection between `word1` and `verb`?** In the example notice how the holes are named `{word1}` and `{word2}`. Values for those holes are assigned in the argument to the format function: `word1=verb`. That construct says, the hole called `word1` gets the value inside of `verb`. This \"glue\" makes named holes a bit confusing for beginners. "
   ]
  },
  {
   "cell_type": "markdown",
   "metadata": {},
   "source": [
    "### Escaping the { and } Characters\n",
    "\n",
    "Sometimes you need to put braces `{` and `}` into a format string, but the format string wants them. If you want the literals `{` and `}` to appear in your string double them up. For example: \n",
    "\n",
    "```python\n",
    "print (f'This is left brace {{ this is right brace }}')\n",
    "```"
   ]
  },
  {
   "cell_type": "code",
   "execution_count": null,
   "metadata": {},
   "outputs": [],
   "source": []
  },
  {
   "cell_type": "markdown",
   "metadata": {},
   "source": [
    "Here's an example of when you would use the double brace to print correct CSS:"
   ]
  },
  {
   "cell_type": "code",
   "execution_count": null,
   "metadata": {},
   "outputs": [],
   "source": [
    "css_template = '''\n",
    "body {{ \n",
    "    padding-top: {}; \n",
    "}}'''\n",
    "\n",
    "print (css_template.format('1.5em'))"
   ]
  },
  {
   "cell_type": "markdown",
   "metadata": {},
   "source": [
    "## Backslash Escape \n",
    "\n",
    "The backslash `\\` character changes the meaning of the character after it. For example, you can prevent a quote from ending the string:"
   ]
  },
  {
   "cell_type": "code",
   "execution_count": null,
   "metadata": {},
   "outputs": [],
   "source": [
    "print ('I can\\'t do that Dave.')"
   ]
  },
  {
   "cell_type": "markdown",
   "metadata": {},
   "source": [
    "The backslash character gives other characters a special meaning. \n",
    "\n",
    "`\\t` is the *tab* character:"
   ]
  },
  {
   "cell_type": "code",
   "execution_count": null,
   "metadata": {},
   "outputs": [],
   "source": [
    "print('\\tOne Tab')\n",
    "print('\\t\\tTwo Tabs')"
   ]
  },
  {
   "cell_type": "markdown",
   "metadata": {},
   "source": [
    "`\\n` is the *newline* character: "
   ]
  },
  {
   "cell_type": "code",
   "execution_count": null,
   "metadata": {},
   "outputs": [],
   "source": [
    "print('One\\nTwo\\nThree')"
   ]
  },
  {
   "cell_type": "markdown",
   "metadata": {},
   "source": [
    "If you want a *literal* backslash you can escape the backslash with a backslash (`\\\\`): "
   ]
  },
  {
   "cell_type": "code",
   "execution_count": null,
   "metadata": {},
   "outputs": [],
   "source": [
    "print (\"tab is \\\\t\")\n",
    "print (\"newline is \\\\n\")"
   ]
  },
  {
   "cell_type": "markdown",
   "metadata": {},
   "source": [
    "## The r-String \n",
    "\n",
    "The r-string is a \"raw\" string. The r-string doesn't do anything special with the backslash (`\\`) character to simplify some tasks. In particular that means you can't embed the newline character into an r-string. Look at the difference between the output of the next two cells. "
   ]
  },
  {
   "cell_type": "code",
   "execution_count": null,
   "metadata": {},
   "outputs": [],
   "source": [
    "print (r\"\"\"\n",
    "tab is \\t \n",
    "newline is \\n\n",
    "\"\"\")"
   ]
  },
  {
   "cell_type": "markdown",
   "metadata": {},
   "source": [
    "## The b-String\n",
    "\n",
    "A b-String is a `byte` string. A byte string is made of the ones and zeros that encode the characters that we can read as English. Byte strings become regular strings through a character encoding. That is discussed in Lesson 7. Here's an example of a byte string:"
   ]
  },
  {
   "cell_type": "code",
   "execution_count": null,
   "metadata": {},
   "outputs": [],
   "source": [
    "b'\\xF0\\x9F\\x98\\xB8'"
   ]
  },
  {
   "cell_type": "markdown",
   "metadata": {},
   "source": [
    "Byte strings are a special type:"
   ]
  },
  {
   "cell_type": "code",
   "execution_count": null,
   "metadata": {},
   "outputs": [],
   "source": [
    "type(b'\\xF0\\x9F\\x98\\xB8')"
   ]
  },
  {
   "cell_type": "markdown",
   "metadata": {},
   "source": [
    "Byte strings are decoded in to regular strings:"
   ]
  },
  {
   "cell_type": "code",
   "execution_count": null,
   "metadata": {},
   "outputs": [],
   "source": [
    "b'\\xF0\\x9F\\x98\\xB8'.decode('utf-8')"
   ]
  }
 ],
 "metadata": {
  "kernelspec": {
   "display_name": "Python 3.7 (XPython)",
   "language": "python",
   "name": "xpython"
  },
  "language_info": {
   "file_extension": ".py",
   "mimetype": "text/x-python",
   "name": "python",
   "version": "3.7.6"
  }
 },
 "nbformat": 4,
 "nbformat_minor": 4
}
