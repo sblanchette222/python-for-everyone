{
 "cells": [
  {
   "cell_type": "markdown",
   "metadata": {},
   "source": [
    "# Prompting the User with `input` \n",
    "\n",
    "Most programs need input of some kind. Programs can take input from the keyboard using the `input` function. When Python encounters the `input` function a text box will appear below the code cell. The program will halt until you provide a value and hit the `Enter` key. \n",
    "\n",
    "> **Watch out!** If a code cell is waiting on `input` no other code cells will run. If your notebook is lost in an input somewhere you can try to stop it using the \"Stop\" or \"Resart\" buttons in the menu bar. \n",
    "\n",
    "The `input()` function *returns* what the user typed to your program. We will talk a lot about return values later in the semester. When a function returns a value you have to *catch* that value into a variable. That's done using the assignment operator you learned in lesson 5. In this example the `input` function places what the user types into the variable `answer`. \n",
    "\n",
    "```python\n",
    "answer = input(\"What is 1 + 1? \")\n",
    "print(\"You asnwered:\", answer) \n",
    "```\n",
    "\n",
    "Enter the code into the next cell and try it. Don't forget to type an answer:"
   ]
  },
  {
   "cell_type": "code",
   "execution_count": null,
   "metadata": {},
   "outputs": [],
   "source": []
  },
  {
   "cell_type": "markdown",
   "metadata": {},
   "source": [
    "**Anything you type will be stored in the `answer` variable.** The name of the variable doesn't matter, you can call it anything you like. The *prompt* is the string that appears to the left of the text box. The prompt tells the user what to type. In most programs you can't just see the code so the prompt is an important way for a user to know what's going on. The prompt can be anyting. For example:\n",
    "\n",
    "```python\n",
    "nonsense = input(\"Blah blah blah\")\n",
    "```\n",
    "\n",
    "The prompt can be nothing at all: \n",
    "\n",
    "```python\n",
    "guess = input()\n",
    "```\n",
    "\n",
    "It's a bad idea to neglect the prompt because the user won't know what you're asking for and the program will be stopped waiting for them to type something in. "
   ]
  },
  {
   "cell_type": "markdown",
   "metadata": {},
   "source": [
    "## Conversions\n",
    "\n",
    "The input function returns a string (even if the user types a number). Try this program: \n",
    "\n",
    "```python\n",
    "num = input(\"Enter a number between 1 and 100: \")\n",
    "print(f\"You entered {num}\")\n",
    "print(f\"The type of num is {type(num)}\")\n",
    "```"
   ]
  },
  {
   "cell_type": "code",
   "execution_count": null,
   "metadata": {},
   "outputs": [],
   "source": []
  },
  {
   "cell_type": "markdown",
   "metadata": {},
   "source": [
    "**Notice how even if you typed a number the `type` of the numer is `str`?** \n",
    "\n",
    "If you want to do math on the result you have to *convert* the string into a number. In Python you can turn a string into a number using `int()` for integer and `float()` for a number with a decimal pace. Be careful, an error will happen if you try to convert something that doesn't make sense. Here's an example of how to convert a string into numbers:\n",
    "\n",
    "```python\n",
    "a = 10\n",
    "print(\"a is\", a)\n",
    "print(\"As an integer:\", int(a))\n",
    "print(\"As a float:\", float(a))\n",
    "```\n",
    "\n",
    "Try the code: "
   ]
  },
  {
   "cell_type": "code",
   "execution_count": null,
   "metadata": {},
   "outputs": [],
   "source": []
  },
  {
   "cell_type": "markdown",
   "metadata": {},
   "source": [
    "The conversion functions return the converted value. So you can make new variables from them. For example: \n",
    "\n",
    "```python\n",
    "a = 10 \n",
    "a_int = int(a)\n",
    "a_float = float(a)\n",
    "print(a, a_int, a_float) \n",
    "```"
   ]
  },
  {
   "cell_type": "markdown",
   "metadata": {},
   "source": [
    "## Converting Input \n",
    "\n",
    "Below is a simple program that adds two numbers that has a problem:\n",
    "\n",
    "```python\n",
    "a = input(\"Enter an integer: \")\n",
    "b = input(\"Enter another integer: \")\n",
    "print(\"The sum of the numbers is:\", a + b)\n",
    "```\n",
    "\n",
    "Enter the program in the next cell:"
   ]
  },
  {
   "cell_type": "code",
   "execution_count": null,
   "metadata": {},
   "outputs": [],
   "source": []
  },
  {
   "cell_type": "markdown",
   "metadata": {},
   "source": [
    "**What's the problem?** Remember that `+` works on strings as well as numbers. What happened is concatenation, not addition. To fix the program you have to convert the values in `a` and `b` into integers. You can do that *inline* like this example: \n",
    "\n",
    "```python\n",
    "a = int(input(\"Enter an integer: \"))\n",
    "b = int(input(\"Enter another integer: \"))\n",
    "print(\"The sum of the numbers is:\", a + b)\n",
    "```\n",
    "\n",
    "Try that:"
   ]
  },
  {
   "cell_type": "code",
   "execution_count": null,
   "metadata": {},
   "outputs": [],
   "source": []
  },
  {
   "cell_type": "markdown",
   "metadata": {},
   "source": [
    "**Much better!** \n",
    "\n",
    "If you want to be able to take any number you should convert the input to `float`:\n",
    "\n",
    "```python\n",
    "a = float(input(\"Enter a number: \"))\n",
    "b = float(input(\"Enter another number: \"))\n",
    "print(\"The sum of the numbers is:\", a + b)\n",
    "```"
   ]
  },
  {
   "cell_type": "code",
   "execution_count": null,
   "metadata": {},
   "outputs": [],
   "source": []
  }
 ],
 "metadata": {
  "kernelspec": {
   "display_name": "Python 3.8 (XPython)",
   "language": "python",
   "name": "xpython"
  },
  "language_info": {
   "file_extension": ".py",
   "mimetype": "text/x-python",
   "name": "python",
   "version": "3.8.2"
  }
 },
 "nbformat": 4,
 "nbformat_minor": 4
}
