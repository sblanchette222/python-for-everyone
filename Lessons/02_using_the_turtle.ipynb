{
 "cells": [
  {
   "cell_type": "markdown",
   "metadata": {},
   "source": [
    "# Using The `Turtle` Class \n",
    "\n",
    "The `Turtle` class is inspired by the [Logo programming language](https://en.wikipedia.org/wiki/Logo_(programming_language). It lets you draw lines and shapes by moving a pen that looks like a turtle around a canvas. This notebook will show you all of the things you can do with the pen. Before the pen can used you have to run the code in the cell below:"
   ]
  },
  {
   "cell_type": "code",
   "execution_count": null,
   "metadata": {},
   "outputs": [],
   "source": [
    "from p4e.drawing import Turtle"
   ]
  },
  {
   "cell_type": "markdown",
   "metadata": {},
   "source": [
    "You only have to run the `import` cell once unless you restart the python kernel. "
   ]
  },
  {
   "cell_type": "markdown",
   "metadata": {},
   "source": [
    "## Creating a Canvas\n",
    "\n",
    "The Turtle draws on a Canvas. In Python parliance you create an *instance* of a Turtle and give the instance a name. The code below creates an instnace named `tu`. In subsequent cells we tell the turtle what to do using the name `tu` and the changes are reflected on the canvas. The canvas won't show unless you ask for it. The statement `display(tu)` says to display the canvas you created. You can also show the canvas by just putting `tu` on the last line of the cell by itself."
   ]
  },
  {
   "cell_type": "code",
   "execution_count": null,
   "metadata": {},
   "outputs": [],
   "source": [
    "tu = Turtle()\n",
    "display(tu)"
   ]
  },
  {
   "cell_type": "markdown",
   "metadata": {},
   "source": [
    "## Drawing Lines \n",
    "\n",
    "The `draw` function of the pen draws a line. After you're done drawing the `show` function shows your drawing. The cell below draws a line."
   ]
  },
  {
   "cell_type": "code",
   "execution_count": null,
   "metadata": {},
   "outputs": [],
   "source": [
    "tu = Turtle()\n",
    "display(tu)\n",
    "tu.draw(20)"
   ]
  },
  {
   "cell_type": "markdown",
   "metadata": {},
   "source": [
    "You can also draw in reverse."
   ]
  },
  {
   "cell_type": "code",
   "execution_count": null,
   "metadata": {},
   "outputs": [],
   "source": [
    "tu = Turtle()\n",
    "display(tu)\n",
    "tu.draw(50) # Go forward 50 steps.\n",
    "tu.draw(-20) # Go back 20 steps."
   ]
  },
  {
   "cell_type": "markdown",
   "metadata": {},
   "source": [
    "## Turns\n",
    "\n",
    "The `turn` function turns the turtle. The number provided to the `turn` function is the angle to turn in degrees. A positive angle is a left turn and a negative angle is a right turn. "
   ]
  },
  {
   "cell_type": "code",
   "execution_count": null,
   "metadata": {},
   "outputs": [],
   "source": [
    "tu = Turtle()\n",
    "display(tu)\n",
    "tu.draw(30)\n",
    "tu.turn(45) # Turn left\n",
    "tu.draw(30)\n",
    "tu.turn(-45) # Turn right\n",
    "tu.draw(30)"
   ]
  },
  {
   "cell_type": "markdown",
   "metadata": {},
   "source": [
    "## Picking Up and Putting Down the Pen \n",
    "\n",
    "You can control the drawing by picking up the pen. When the pen is up moves don't draw a line. When you want to draw lines again you can put the pen back down. The `up` and `down` functions control the pen."
   ]
  },
  {
   "cell_type": "code",
   "execution_count": null,
   "metadata": {},
   "outputs": [],
   "source": [
    "tu = Turtle()\n",
    "display(tu)\n",
    "tu.draw(30)\n",
    "tu.up()      # Pick up the pen\n",
    "tu.draw(20)  # There will be no line from this draw.\n",
    "tu.down()    # Put down the pen\n",
    "tu.draw(30)"
   ]
  },
  {
   "cell_type": "markdown",
   "metadata": {},
   "source": [
    "## The Color and Width of the Pen \n",
    "\n",
    "The You can control the color and the thickness of the lines that the pend draws using the `color` and `width` functions. "
   ]
  },
  {
   "cell_type": "code",
   "execution_count": null,
   "metadata": {},
   "outputs": [],
   "source": [
    "tu = Turtle()\n",
    "display(tu)\n",
    "tu.width(30)      # Draw a 30px line.  \n",
    "tu.color('red')   # Draw red\n",
    "tu.draw(150)\n",
    "tu.turn(120)\n",
    "tu.color('green') # Draw green\n",
    "tu.draw(150)\n",
    "tu.turn(120)\n",
    "tu.color('blue')  # Draw blue\n",
    "tu.draw(150)\n",
    "tu.turn(120)"
   ]
  },
  {
   "cell_type": "markdown",
   "metadata": {},
   "source": [
    "The pen can use any colors that are valid in HTML. You can see HTML color codes on [this page](https://htmlcolorcodes.com/)."
   ]
  },
  {
   "cell_type": "code",
   "execution_count": null,
   "metadata": {},
   "outputs": [],
   "source": [
    "tu = Turtle()\n",
    "display(tu)\n",
    "tu.width(30)         # Draw a 30px line.  \n",
    "tu.color('fuchsia')  # Draw a fuchsia \n",
    "tu.draw(150)\n",
    "tu.turn(120)\n",
    "tu.color('#ff1010')  # Use #RRGGBB notation. \n",
    "tu.draw(150)\n",
    "tu.turn(120)\n",
    "tu.color('#00ff00')  \n",
    "tu.draw(150)\n",
    "tu.turn(120)"
   ]
  },
  {
   "cell_type": "markdown",
   "metadata": {},
   "source": [
    "## Moving the Pen to Absolute Coordinates \n",
    "\n",
    "The `goto` function moves the pen to a particular location. If the pen is down it will draw a line on the path to that location. If the pen is up no line will be drawn. "
   ]
  },
  {
   "cell_type": "code",
   "execution_count": null,
   "metadata": {},
   "outputs": [],
   "source": [
    "tu = Turtle()    # The pen starts at (0, 0) facing up.\n",
    "display(tu)\n",
    "tu.draw(150)     # The pen is now at (0, 50)\n",
    "tu.goto(50, -50)\n",
    "tu.draw(150)     # The pen is now at (20, 50)\n",
    "tu.goto(100, -50)\n",
    "tu.draw(150)     # The pen is now at (40, 50)"
   ]
  },
  {
   "cell_type": "markdown",
   "metadata": {},
   "source": [
    "## Controlling the Pen's Heading \n",
    "\n",
    "You can turn the pen to a particular direction in degrees using the `heading` funciton. "
   ]
  },
  {
   "cell_type": "code",
   "execution_count": null,
   "metadata": {},
   "outputs": [],
   "source": [
    "tu = Turtle()    # The pen starts at (0,0), heading 90 degrees\n",
    "display(tu)\n",
    "tu.heading(0)    # Face right \n",
    "tu.draw(100)\n",
    "tu.goto(0,0)\n",
    "tu.heading(90)   # Face up\n",
    "tu.draw(100)\n",
    "tu.goto(0,0)\n",
    "tu.heading(180)  # Face left\n",
    "tu.draw(100)\n",
    "tu.goto(0,0)\n",
    "tu.heading(270)  # Face down\n",
    "tu.draw(100)"
   ]
  },
  {
   "cell_type": "markdown",
   "metadata": {},
   "source": [
    "## Setting a Background Image \n",
    "\n",
    "You can set a custom background image for the arena. The image is automatically scaled to the size of the arena. "
   ]
  },
  {
   "cell_type": "code",
   "execution_count": null,
   "metadata": {},
   "outputs": [],
   "source": [
    "tu = Turtle()\n",
    "display(tu)\n",
    "tu.background('../Labs/maze.png')"
   ]
  },
  {
   "cell_type": "markdown",
   "metadata": {},
   "source": [
    "## Controlling the Shape of the Arena \n",
    "\n",
    "The `show` function takes arguments that control how the final plot is rendered. The default arena is square with `x = [-200, 200]` and `y = [-200, 200]`. You can control the shape of the arena by passing the `size` parameter when you create the Turtle. For example, to create a smaller canvas you can create it this way:"
   ]
  },
  {
   "cell_type": "code",
   "execution_count": null,
   "metadata": {},
   "outputs": [],
   "source": [
    "tu = Turtle(size=(100,100))\n",
    "display(tu)\n",
    "tu.draw(20)\n",
    "tu.turn(-120)\n",
    "tu.draw(20)\n",
    "tu.turn(-120)\n",
    "tu.draw(20)"
   ]
  },
  {
   "cell_type": "markdown",
   "metadata": {},
   "source": [
    "## Getting Help \n",
    "\n",
    "The `help` function in Python can show you the documentation for an object like the pen. "
   ]
  },
  {
   "cell_type": "code",
   "execution_count": null,
   "metadata": {},
   "outputs": [],
   "source": [
    "help(Turtle)"
   ]
  }
 ],
 "metadata": {
  "kernelspec": {
   "display_name": "Python 3.8 (XPython)",
   "language": "python",
   "name": "xpython"
  },
  "language_info": {
   "file_extension": ".py",
   "mimetype": "text/x-python",
   "name": "python",
   "version": "3.8.2"
  }
 },
 "nbformat": 4,
 "nbformat_minor": 4
}
