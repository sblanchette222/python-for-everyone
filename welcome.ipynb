{
 "cells": [
  {
   "cell_type": "markdown",
   "metadata": {},
   "source": [
    "# Python for Everyone\n",
    "\n",
    "The class notes are [Jupyter](http://jupyter.org/) notebooks. Jupyter notebooks let you see and run your Python code right inside the notes. \n",
    "\n",
    "You can run your first Python program in the box below."
   ]
  },
  {
   "cell_type": "code",
   "execution_count": null,
   "metadata": {},
   "outputs": [],
   "source": [
    "print(\"Hello Python World.\")"
   ]
  },
  {
   "cell_type": "markdown",
   "metadata": {},
   "source": [
    "## Lesson 1: Introduction to Cloud Programming \n",
    "\n",
    "* Ojectives \n",
    "  * Become familiar with your Jupyter notebook\n",
    "  * Write your first Python program\n",
    "  * Learn how to use the shell\n",
    "* Documentation \n",
    "  * [Using Jupyter](Lesson01/using_jupyter.ipynb)\n",
    "  * [Navigating files and directories in BASH](http://linuxcommand.org/lc3_lts0020.php)\n",
    "  * [Invoking Python and the REPL](https://docs.python.org/3.6/tutorial/interpreter.html)"
   ]
  },
  {
   "cell_type": "markdown",
   "metadata": {},
   "source": [
    "## Lesson 2: Variables and Numerical Operations\n",
    "\n",
    "* Objecteives \n",
    "  * Describe and create algorithms \n",
    "  * Learn to use a variable\n",
    "  * Learn how Python performs mathematical operations\n",
    "  * Understand Python operators \n",
    "  * Learn to use the `print()` function. \n",
    "* Notebooks \n",
    "  * [Using the Pen](Lesson02/using_the_pen.ipynb)\n",
    "  * [Algorithms](Lesson02/algorithms.ipynb)\n",
    "  * [Literals](Lesson02/literals.ipynb)\n",
    "  * [Mathematical Operators](Lesson02/operators.ipynb)\n",
    "  * [Variables](Lesson02/variables.ipynb)\n",
    "  * [Printing](Lesson02/printing.ipynb)\n",
    "* Labs \n",
    "  * [Lesson 2 Practice](Lesson02/practice_lab.ipynb)"
   ]
  },
  {
   "cell_type": "markdown",
   "metadata": {},
   "source": [
    "## Lesson 3: Strings and Formatting \n",
    "\n",
    "* Ojbectives \n",
    "  * Use and f-string to mix words and variables in output.\n",
    "  * Learn how to use the `format()` function to mix words and variables. \n",
    "  * Learn basic HTML \n",
    "* Notebooks\n",
    "  * [Quotes and the f-string](Lesson03/quotes.ipynb)\n",
    "  * [Formatting](Lesson03/formatting.ipynb)\n",
    "  * [Introduction to HTML](Lesson03/introduction_to_html.ipynb)\n",
    "* Labs \n",
    "  * [Lesson 3 Practice](Lesson03/practice_lab.ipynb)"
   ]
  },
  {
   "cell_type": "markdown",
   "metadata": {},
   "source": [
    "## Lesson 4: User Input\n",
    "\n",
    "* Objectives \n",
    "  * Learn to use the `input()` function. \n",
    "  * Understand how to do type conversions. \n",
    "* Notebooks\n",
    "  * [User Input](Lesson04/user_input.ipynb) \n",
    "  * [Command Line Input](Lesson04/command_line.ipynb)\n",
    "  * [Environment Variables](Lesson04/environment_variables.ipynb)\n",
    "* Extras \n",
    "  * [HTTP and HTML Forms](Lesson04/http_and_html_forms.ipynb)\n",
    "  * [Understand Imports](Lesson04/import.ipynb)\n",
    "* Labs \n",
    "  * [Lesson 4 Practice](Lesson04/practice_lab.ipynb)\n",
    "* Project \n",
    "  * [An HTML Calculator](Lesson04/project_html_calculator.ipynb)"
   ]
  },
  {
   "cell_type": "markdown",
   "metadata": {},
   "source": [
    "## Lesson 5: Reading and Writing Files \n",
    "\n",
    "* Objectives \n",
    "  * Learn how to use files in Python \n",
    "  * Read data from a file\n",
    "  * Write data to a file\n",
    "* Notebooks \n",
    "  * [Reading and Writing Files](Lesson05/reading_and_writing_files.ipynb) \n",
    "* Extras\n",
    "  * [Understanding Web Requests](Lesson05/web_requests.ipynb)\n",
    "* Labs \n",
    "  * [Accessing Files](Lesson05/lab_accessing_files.ipynb)\n",
    "* Challenge \n",
    "  * [Implmenent the `head` command](Lesson05/implement_head.ipynb) \n",
    "* Project \n",
    "  * [Madlib](Projects/project_madlib_files.ipynb)"
   ]
  },
  {
   "cell_type": "markdown",
   "metadata": {},
   "source": [
    "## Lesson 6: Functions\n",
    "\n",
    "* Objectives\n",
    "  * Learn how functions make code reusable \n",
    "  * Learn how to pass arguments to functions\n",
    "  * Learn about function return values\n",
    "* Notebooks\n",
    "  * [Functions](Lesson06/functions.ipynb)\n",
    "* Extras \n",
    "  * [Decorators](Lesson06/decorators.ipynb)\n",
    "* Labs \n",
    "  * [Functions Practice](Lesson06/practice_test.ipynb)\n",
    "* Project \n",
    "  * [Designing with Functions](Projects/project_designing_with_functions.ipynb)"
   ]
  },
  {
   "cell_type": "markdown",
   "metadata": {},
   "source": [
    "## Lesson 7: Character Encoding\n",
    "\n",
    "* Objectives\n",
    "  * Learn about binary and hexadecimal and how to convert numbers. \n",
    "  * Learn how characters are encoded in the computer \n",
    "  * Learn about different character sets \n",
    "  * Make and use emojis. \n",
    "* Notebooks \n",
    "  * [Binary and Hexadecimal](Lesson07/binary_and_hex.ipynb)\n",
    "  * [Character Encoding](Lesson07/character_encoding.ipynb) "
   ]
  },
  {
   "cell_type": "markdown",
   "metadata": {},
   "source": [
    "## Lesson 8: Logic and Decisions \n",
    "\n",
    "* Objectives \n",
    "  * Learn how to use the `if` statement \n",
    "  * Understand conditional code \n",
    "* Notebooks\n",
    "  * [Logic and Decisions](Lesson08/logic_and_decisions.ipynb) \n",
    "* Extras\n",
    "  * [Exception Handling](Lesson08/exceptions.ipynb)\n",
    "* Labs\n",
    "  * [If Statements](Lesson08/lab_if_statements.ipynb)\n",
    "* Project\n",
    "  * [The Monty Hall Paradox](Projects/project_monty_hall.ipynb)"
   ]
  },
  {
   "cell_type": "markdown",
   "metadata": {},
   "source": [
    "## Lesson 9: Lists and Loops \n",
    "\n",
    "* Objectives \n",
    "  * Learn how loops do work by repeating code \n",
    "  * Learn when to use `for` and `while` loops \n",
    "  * Introduction to lists\n",
    "* Notebooks \n",
    "  * [Lists](Lesson09/lists.ipynb) \n",
    "  * [The for Loop](Lesson09/for_loop.ipynb) \n",
    "  * [The while Loop](Lesson09/while_loop.ipynb) \n",
    "* Extras\n",
    "  * [Variadic Functions](Lesson09/variadic_functions.ipynb)\n",
    "* Labs\n",
    "  * [Lists and Loops Lab](Lesson09/practice_lab.ipynb)\n",
    "* Project \n",
    "  * [Bubble Sort](Projects/project_bubble_sort.ipynb)"
   ]
  },
  {
   "cell_type": "markdown",
   "metadata": {},
   "source": [
    "## Lesson 10: Dictionaires \n",
    "\n",
    "* Objectives \n",
    "  * Learn more about list functions \n",
    "  * Learn to use a dictionary \n",
    "  * Understand how to make complex data models \n",
    "* Notebooks \n",
    "  * [Dictionaries](Lesson10/dictionaries.ipynb) \n",
    "* Extras\n",
    "  * [Keyword Arguments](Lesson10/keyword_arguments.ipynb)\n",
    "  * [Data Structures](Lesson10/data_structures.ipynb)\n",
    "  * [Web APIs](Lesson10/web_apis.ipynb)\n",
    "* Labs \n",
    "  * [Dictionaries Practice Lab](Lesson10/practice_lab.ipynb)\n",
    "* Project\n",
    "  * [Wikipedia Fetcher](Projects/project_wikipedia_spell.ipynb)"
   ]
  },
  {
   "cell_type": "markdown",
   "metadata": {},
   "source": [
    "## Lesson 11: Classes and Objects \n",
    "\n",
    "* Objectives \n",
    "  * Learn how classes encapuslate functions and data \n",
    "  * Learn the difference between a *class* and and *instance* \n",
    "  * Write your first class \n",
    "  * Learn how classes *inherit* from eachother \n",
    "  * Learn about class *composition* \n",
    "* Notebooks \n",
    "  * [Classes and Objects](Lesson11/classes_and_objects.ipynb) \n",
    "  * [Class Design](Lesson11/class_design.ipynb) \n",
    "* Extras\n",
    "  * [Packages](Lesson11/packages.ipynb)\n",
    "* Labs \n",
    "  * [Classes Practice Lab](Lesson11/lab_classes_practice.ipynb)\n",
    "* Project \n",
    "  * [Wikipedia Helper](Projects/project_wikipedia_class.ipynb)"
   ]
  },
  {
   "cell_type": "markdown",
   "metadata": {},
   "source": [
    "## Lesson 12: Flask Essentials \n",
    "\n",
    "* Objectives \n",
    "  * Write your first microservice \n",
    "  * Learn how flask uses request _routing_\n",
    "* Notebooks \n",
    "  * [Flask Essentials](Lesson12/flask_essentials.ipynb) "
   ]
  }
 ],
 "metadata": {
  "kernelspec": {
   "display_name": "Python 3",
   "language": "python",
   "name": "python3"
  },
  "language_info": {
   "codemirror_mode": {
    "name": "ipython",
    "version": 3
   },
   "file_extension": ".py",
   "mimetype": "text/x-python",
   "name": "python",
   "nbconvert_exporter": "python",
   "pygments_lexer": "ipython3",
   "version": "3.8.3"
  },
  "pycharm": {
   "stem_cell": {
    "cell_type": "raw",
    "metadata": {
     "collapsed": false
    },
    "source": []
   }
  }
 },
 "nbformat": 4,
 "nbformat_minor": 4
}
